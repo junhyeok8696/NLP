{
  "cells": [
    {
      "cell_type": "markdown",
      "metadata": {
        "id": "view-in-github",
        "colab_type": "text"
      },
      "source": [
        "<a href=\"https://colab.research.google.com/github/junhyeok8696/NLP/blob/main/SentencePiece_Tokenizer_Training_From_Scratch.ipynb\" target=\"_parent\"><img src=\"https://colab.research.google.com/assets/colab-badge.svg\" alt=\"Open In Colab\"/></a>"
      ]
    },
    {
      "cell_type": "markdown",
      "metadata": {
        "id": "whjogPl1KL4-"
      },
      "source": [
        "# Tokenizer Training from Scratch"
      ]
    },
    {
      "cell_type": "code",
      "execution_count": 1,
      "metadata": {
        "id": "fvHF5gEXjYcd",
        "colab": {
          "base_uri": "https://localhost:8080/"
        },
        "outputId": "809c2ebc-a7aa-4b57-c961-07039d009427"
      },
      "outputs": [
        {
          "output_type": "stream",
          "name": "stdout",
          "text": [
            "\u001b[2K     \u001b[90m━━━━━━━━━━━━━━━━━━━━━━━━━━━━━━━━━━━━━━━━\u001b[0m \u001b[32m19.4/19.4 MB\u001b[0m \u001b[31m79.9 MB/s\u001b[0m eta \u001b[36m0:00:00\u001b[0m\n",
            "\u001b[2K     \u001b[90m━━━━━━━━━━━━━━━━━━━━━━━━━━━━━━━━━━━━━━━━\u001b[0m \u001b[32m465.3/465.3 kB\u001b[0m \u001b[31m41.6 MB/s\u001b[0m eta \u001b[36m0:00:00\u001b[0m\n",
            "\u001b[2K     \u001b[90m━━━━━━━━━━━━━━━━━━━━━━━━━━━━━━━━━━━━━━━━\u001b[0m \u001b[32m1.3/1.3 MB\u001b[0m \u001b[31m18.8 MB/s\u001b[0m eta \u001b[36m0:00:00\u001b[0m\n",
            "\u001b[?25h"
          ]
        }
      ],
      "source": [
        "!pip install -q KoNLPy\n",
        "!pip install -U -q sentencepiece"
      ]
    },
    {
      "cell_type": "code",
      "execution_count": 2,
      "metadata": {
        "id": "pUL4Bew4jYcg"
      },
      "outputs": [],
      "source": [
        "sentences_E = [\n",
        "    'I love my dog',\n",
        "    'I love my cat',\n",
        "    'You love my dog!',\n",
        "    'I was born in Korea and graduaged University in USA.',\n",
        "]\n",
        "\n",
        "sentences_K = [\n",
        "    \"코로나가 심하다\",\n",
        "    \"코비드-19가 심하다\",\n",
        "    '아버지가방에들어가신다',\n",
        "    '아버지가 방에 들어가신다',\n",
        "    '너무너무너무는 나카무라세이코가 불러 크게 히트한 노래입니다'\n",
        "]"
      ]
    },
    {
      "cell_type": "markdown",
      "metadata": {
        "id": "On8u7bpSjYci"
      },
      "source": [
        "# 1. Keras 기본 Tokenizer - rule-based\n",
        "- 공백 또는 구둣점으로 분리  \n",
        "- 영어 단어별로 띄어쓰기가 철저히 지켜지는 언어"
      ]
    },
    {
      "cell_type": "code",
      "source": [
        "from tensorflow.keras.preprocessing.text import Tokenizer"
      ],
      "metadata": {
        "id": "d7-fpOVsdvlf"
      },
      "execution_count": 3,
      "outputs": []
    },
    {
      "cell_type": "markdown",
      "source": [
        "Keras의 rule base tokenizer로 문장 tokenize"
      ],
      "metadata": {
        "id": "_oU5wfeMeMTR"
      }
    },
    {
      "cell_type": "code",
      "source": [
        "tokenizer = Tokenizer(num_words = 100, oov_token = '<OOV>') # 빈도수 상위 100 개로 구성\n",
        "\n",
        "tokenizer.fit_on_texts(sentences_E)\n",
        "eng_word_index = tokenizer.word_index\n",
        "print(eng_word_index)"
      ],
      "metadata": {
        "colab": {
          "base_uri": "https://localhost:8080/"
        },
        "id": "DeMI-X9SdvsT",
        "outputId": "f38cbca7-b172-46ab-88db-fdb384a5da4b"
      },
      "execution_count": 4,
      "outputs": [
        {
          "output_type": "stream",
          "name": "stdout",
          "text": [
            "{'<OOV>': 1, 'i': 2, 'love': 3, 'my': 4, 'dog': 5, 'in': 6, 'cat': 7, 'you': 8, 'was': 9, 'born': 10, 'korea': 11, 'and': 12, 'graduaged': 13, 'university': 14, 'usa': 15}\n"
          ]
        }
      ]
    },
    {
      "cell_type": "markdown",
      "metadata": {
        "id": "0TJA8onMkTiy"
      },
      "source": [
        "Keras의 rule base tokenizer로 한글 tokenize"
      ]
    },
    {
      "cell_type": "code",
      "execution_count": 5,
      "metadata": {
        "colab": {
          "base_uri": "https://localhost:8080/"
        },
        "id": "theDox2EjYcl",
        "outputId": "b09f186e-f124-4780-f98c-dd36858e2297"
      },
      "outputs": [
        {
          "output_type": "stream",
          "name": "stdout",
          "text": [
            "{'<OOV>': 1, '심하다': 2, '코로나가': 3, '코비드': 4, '19가': 5, '아버지가방에들어가신다': 6, '아버지가': 7, '방에': 8, '들어가신다': 9, '너무너무너무는': 10, '나카무라세이코가': 11, '불러': 12, '크게': 13, '히트한': 14, '노래입니다': 15}\n"
          ]
        }
      ],
      "source": [
        "tokenizer = Tokenizer(num_words=100, oov_token='<OOV>')  # 빈도수 상위 100 개로 구성\n",
        "\n",
        "tokenizer.fit_on_texts(sentences_K)\n",
        "kor_word_index = tokenizer.word_index\n",
        "print(kor_word_index)"
      ]
    },
    {
      "cell_type": "markdown",
      "metadata": {
        "id": "TkQ9u94VjYcl"
      },
      "source": [
        "# 2. 단어 사전 기반 한국어 tokenizer 사용"
      ]
    },
    {
      "cell_type": "code",
      "source": [
        "from konlpy.tag import Okt\n",
        "\n",
        "okt = Okt()\n",
        "\n",
        "temp_X = []\n",
        "for sent in sentences_K:\n",
        "    temp_X.append(okt.morphs(sent))\n",
        "\n",
        "print(temp_X)"
      ],
      "metadata": {
        "colab": {
          "base_uri": "https://localhost:8080/"
        },
        "id": "PxMX7E48ewFt",
        "outputId": "a8bdeeed-d72e-4553-b176-99fc799340da"
      },
      "execution_count": 6,
      "outputs": [
        {
          "output_type": "stream",
          "name": "stdout",
          "text": [
            "[['코로나', '가', '심하다'], ['코', '비드', '-', '19', '가', '심하다'], ['아버지', '가방', '에', '들어가신다'], ['아버지', '가', '방', '에', '들어가신다'], ['너무', '너무', '너', '무', '는', '나카무라', '세이', '코', '가', '불러', '크게', '히트', '한', '노래', '입니다']]\n"
          ]
        }
      ]
    },
    {
      "cell_type": "markdown",
      "metadata": {
        "id": "MKy3rIq0kuLo"
      },
      "source": [
        "사전 기반 tokenize 후 Keras tokenizer 로 vocabulary 생성"
      ]
    },
    {
      "cell_type": "code",
      "execution_count": 7,
      "metadata": {
        "colab": {
          "base_uri": "https://localhost:8080/"
        },
        "id": "jIM1k4UgjYcn",
        "outputId": "a5aadf45-8a34-4678-caa1-ca0c77219786"
      },
      "outputs": [
        {
          "output_type": "stream",
          "name": "stdout",
          "text": [
            "{'<OOV>': 1, '가': 2, '심하다': 3, '코': 4, '아버지': 5, '에': 6, '들어가신다': 7, '너무': 8, '코로나': 9, '비드': 10, '-': 11, '19': 12, '가방': 13, '방': 14, '너': 15, '무': 16, '는': 17, '나카무라': 18, '세이': 19, '불러': 20, '크게': 21, '히트': 22, '한': 23, '노래': 24, '입니다': 25}\n"
          ]
        }
      ],
      "source": [
        "tokenizer = Tokenizer(num_words=100, oov_token='<OOV>')  # 빈도수 상위 100 개로 구성\n",
        "\n",
        "tokenizer.fit_on_texts(temp_X)\n",
        "vocabulary_okt_keras = tokenizer.word_index\n",
        "print(vocabulary_okt_keras)"
      ]
    },
    {
      "cell_type": "markdown",
      "metadata": {
        "id": "6FRpIxColOLv"
      },
      "source": [
        "두 vocabulary 의 차이 비교"
      ]
    },
    {
      "cell_type": "code",
      "execution_count": 8,
      "metadata": {
        "colab": {
          "base_uri": "https://localhost:8080/"
        },
        "id": "qUjQL_94lCWO",
        "outputId": "d0cf10a0-de74-49eb-deaa-1453d52035ec"
      },
      "outputs": [
        {
          "output_type": "stream",
          "name": "stdout",
          "text": [
            "{'<OOV>': 1, '심하다': 2, '코로나가': 3, '코비드': 4, '19가': 5, '아버지가방에들어가신다': 6, '아버지가': 7, '방에': 8, '들어가신다': 9, '너무너무너무는': 10, '나카무라세이코가': 11, '불러': 12, '크게': 13, '히트한': 14, '노래입니다': 15}\n",
            "{'<OOV>': 1, '가': 2, '심하다': 3, '코': 4, '아버지': 5, '에': 6, '들어가신다': 7, '너무': 8, '코로나': 9, '비드': 10, '-': 11, '19': 12, '가방': 13, '방': 14, '너': 15, '무': 16, '는': 17, '나카무라': 18, '세이': 19, '불러': 20, '크게': 21, '히트': 22, '한': 23, '노래': 24, '입니다': 25}\n"
          ]
        }
      ],
      "source": [
        "print(kor_word_index)\n",
        "print(vocabulary_okt_keras)"
      ]
    },
    {
      "cell_type": "markdown",
      "metadata": {
        "id": "MRtVftAuMmJ8"
      },
      "source": [
        "### 단, Okt 사전에 미등록된 단어의 경우 정확한 tokenizing 이 안된다."
      ]
    },
    {
      "cell_type": "code",
      "execution_count": 9,
      "metadata": {
        "colab": {
          "base_uri": "https://localhost:8080/"
        },
        "id": "YUpB1dYWMmJ8",
        "outputId": "6bf1b523-4070-4fb2-94a0-70327576b9b3"
      },
      "outputs": [
        {
          "output_type": "execute_result",
          "data": {
            "text/plain": [
              "[('너무', 'Adverb'),\n",
              " ('너무', 'Adverb'),\n",
              " ('너', 'Modifier'),\n",
              " ('무', 'Noun'),\n",
              " ('는', 'Josa'),\n",
              " ('나카무라', 'Noun'),\n",
              " ('세이', 'Noun'),\n",
              " ('코', 'Noun'),\n",
              " ('가', 'Josa'),\n",
              " ('불러', 'Verb'),\n",
              " ('크게', 'Noun'),\n",
              " ('히트', 'Noun'),\n",
              " ('한', 'Josa'),\n",
              " ('노래', 'Noun'),\n",
              " ('입니다', 'Adjective')]"
            ]
          },
          "metadata": {},
          "execution_count": 9
        }
      ],
      "source": [
        "okt.pos('너무너무너무는 나카무라세이코가 불러 크게 히트한 노래입니다')"
      ]
    },
    {
      "cell_type": "markdown",
      "metadata": {
        "id": "6Cq9CJhJMmJ9"
      },
      "source": [
        "예를 들어 `너무너무너무`와 `나카무라세이코`는 하나의 단어이지만, okt 사전에 등록되어 있지 않아 여러 개의 복합단어로 나뉘어집니다. 이러한 문제를 해결하기 위하여 형태소 분석기와 품사 판별기들은 사용자 사전 추가 기능을 제공합니다. 사용자 사전을 추가하여 모델의 vocabulary 를 풍부하게 만드는 것은 사용자의 몫입니다.\n",
        "\n",
        "1. okt 공식 문서를 참고해서 사용사 사전을 추가.\n",
        "2. okt를 패키징하고, konlpy에서 사용할 수 있도록 konlpy/java 경로에 jar 파일을 복사.\n",
        "3. 기존에 참고하고 있던 okt.jar 대신 새로운 okt.jar를 사용하도록 설정.\n",
        "4. konlpy 소스 경로를 import 해서 형태소 분석."
      ]
    },
    {
      "cell_type": "markdown",
      "metadata": {
        "id": "9NSFEmKRMmKB"
      },
      "source": [
        "# 3. Google SentencePiece Tokenizer\n",
        "\n",
        "- NAVER Movie rating data 를 이용한 sentencepiece tokenizer training"
      ]
    },
    {
      "cell_type": "code",
      "execution_count": 10,
      "metadata": {
        "colab": {
          "base_uri": "https://localhost:8080/"
        },
        "id": "f-9k6x1ZMmKC",
        "outputId": "6761fc2c-b9bb-4cd7-cb13-b9a5ba5d062e"
      },
      "outputs": [
        {
          "output_type": "stream",
          "name": "stdout",
          "text": [
            "Downloading data from https://raw.githubusercontent.com/junhyeok8696/NLP/main/naver_movie/ratings_train.txt\n",
            "14628807/14628807 [==============================] - 0s 0us/step\n"
          ]
        }
      ],
      "source": [
        "import tensorflow as tf\n",
        "import pandas as pd\n",
        "import sentencepiece as spm\n",
        "\n",
        "DATA_TRAIN_PATH = tf.keras.utils.get_file(\"ratings_train.txt\",\n",
        "        \"https://raw.githubusercontent.com/junhyeok8696/NLP/main/naver_movie/ratings_train.txt\")"
      ]
    },
    {
      "cell_type": "markdown",
      "metadata": {
        "id": "Vn-WA_c6MmKC"
      },
      "source": [
        "- pandas.read_csv에서 quoting = 3으로 설정해주면 인용구(따옴표)를 무시"
      ]
    },
    {
      "cell_type": "code",
      "execution_count": 11,
      "metadata": {
        "colab": {
          "base_uri": "https://localhost:8080/",
          "height": 223
        },
        "id": "5q_gXlchMmKD",
        "outputId": "dfcf5c3d-6164-4d2d-aaff-35f8efc6bd6a"
      },
      "outputs": [
        {
          "output_type": "stream",
          "name": "stdout",
          "text": [
            "(150000, 3)\n"
          ]
        },
        {
          "output_type": "execute_result",
          "data": {
            "text/plain": [
              "         id                                           document  label\n",
              "0   9976970                                아 더빙.. 진짜 짜증나네요 목소리      0\n",
              "1   3819312                  흠...포스터보고 초딩영화줄....오버연기조차 가볍지 않구나      1\n",
              "2  10265843                                  너무재밓었다그래서보는것을추천한다      0\n",
              "3   9045019                      교도소 이야기구먼 ..솔직히 재미는 없다..평점 조정      0\n",
              "4   6483659  사이몬페그의 익살스런 연기가 돋보였던 영화!스파이더맨에서 늙어보이기만 했던 커스틴 ...      1"
            ],
            "text/html": [
              "\n",
              "  <div id=\"df-4abb26c4-e51c-46ea-84ea-5d47fa8b196d\" class=\"colab-df-container\">\n",
              "    <div>\n",
              "<style scoped>\n",
              "    .dataframe tbody tr th:only-of-type {\n",
              "        vertical-align: middle;\n",
              "    }\n",
              "\n",
              "    .dataframe tbody tr th {\n",
              "        vertical-align: top;\n",
              "    }\n",
              "\n",
              "    .dataframe thead th {\n",
              "        text-align: right;\n",
              "    }\n",
              "</style>\n",
              "<table border=\"1\" class=\"dataframe\">\n",
              "  <thead>\n",
              "    <tr style=\"text-align: right;\">\n",
              "      <th></th>\n",
              "      <th>id</th>\n",
              "      <th>document</th>\n",
              "      <th>label</th>\n",
              "    </tr>\n",
              "  </thead>\n",
              "  <tbody>\n",
              "    <tr>\n",
              "      <th>0</th>\n",
              "      <td>9976970</td>\n",
              "      <td>아 더빙.. 진짜 짜증나네요 목소리</td>\n",
              "      <td>0</td>\n",
              "    </tr>\n",
              "    <tr>\n",
              "      <th>1</th>\n",
              "      <td>3819312</td>\n",
              "      <td>흠...포스터보고 초딩영화줄....오버연기조차 가볍지 않구나</td>\n",
              "      <td>1</td>\n",
              "    </tr>\n",
              "    <tr>\n",
              "      <th>2</th>\n",
              "      <td>10265843</td>\n",
              "      <td>너무재밓었다그래서보는것을추천한다</td>\n",
              "      <td>0</td>\n",
              "    </tr>\n",
              "    <tr>\n",
              "      <th>3</th>\n",
              "      <td>9045019</td>\n",
              "      <td>교도소 이야기구먼 ..솔직히 재미는 없다..평점 조정</td>\n",
              "      <td>0</td>\n",
              "    </tr>\n",
              "    <tr>\n",
              "      <th>4</th>\n",
              "      <td>6483659</td>\n",
              "      <td>사이몬페그의 익살스런 연기가 돋보였던 영화!스파이더맨에서 늙어보이기만 했던 커스틴 ...</td>\n",
              "      <td>1</td>\n",
              "    </tr>\n",
              "  </tbody>\n",
              "</table>\n",
              "</div>\n",
              "    <div class=\"colab-df-buttons\">\n",
              "\n",
              "  <div class=\"colab-df-container\">\n",
              "    <button class=\"colab-df-convert\" onclick=\"convertToInteractive('df-4abb26c4-e51c-46ea-84ea-5d47fa8b196d')\"\n",
              "            title=\"Convert this dataframe to an interactive table.\"\n",
              "            style=\"display:none;\">\n",
              "\n",
              "  <svg xmlns=\"http://www.w3.org/2000/svg\" height=\"24px\" viewBox=\"0 -960 960 960\">\n",
              "    <path d=\"M120-120v-720h720v720H120Zm60-500h600v-160H180v160Zm220 220h160v-160H400v160Zm0 220h160v-160H400v160ZM180-400h160v-160H180v160Zm440 0h160v-160H620v160ZM180-180h160v-160H180v160Zm440 0h160v-160H620v160Z\"/>\n",
              "  </svg>\n",
              "    </button>\n",
              "\n",
              "  <style>\n",
              "    .colab-df-container {\n",
              "      display:flex;\n",
              "      gap: 12px;\n",
              "    }\n",
              "\n",
              "    .colab-df-convert {\n",
              "      background-color: #E8F0FE;\n",
              "      border: none;\n",
              "      border-radius: 50%;\n",
              "      cursor: pointer;\n",
              "      display: none;\n",
              "      fill: #1967D2;\n",
              "      height: 32px;\n",
              "      padding: 0 0 0 0;\n",
              "      width: 32px;\n",
              "    }\n",
              "\n",
              "    .colab-df-convert:hover {\n",
              "      background-color: #E2EBFA;\n",
              "      box-shadow: 0px 1px 2px rgba(60, 64, 67, 0.3), 0px 1px 3px 1px rgba(60, 64, 67, 0.15);\n",
              "      fill: #174EA6;\n",
              "    }\n",
              "\n",
              "    .colab-df-buttons div {\n",
              "      margin-bottom: 4px;\n",
              "    }\n",
              "\n",
              "    [theme=dark] .colab-df-convert {\n",
              "      background-color: #3B4455;\n",
              "      fill: #D2E3FC;\n",
              "    }\n",
              "\n",
              "    [theme=dark] .colab-df-convert:hover {\n",
              "      background-color: #434B5C;\n",
              "      box-shadow: 0px 1px 3px 1px rgba(0, 0, 0, 0.15);\n",
              "      filter: drop-shadow(0px 1px 2px rgba(0, 0, 0, 0.3));\n",
              "      fill: #FFFFFF;\n",
              "    }\n",
              "  </style>\n",
              "\n",
              "    <script>\n",
              "      const buttonEl =\n",
              "        document.querySelector('#df-4abb26c4-e51c-46ea-84ea-5d47fa8b196d button.colab-df-convert');\n",
              "      buttonEl.style.display =\n",
              "        google.colab.kernel.accessAllowed ? 'block' : 'none';\n",
              "\n",
              "      async function convertToInteractive(key) {\n",
              "        const element = document.querySelector('#df-4abb26c4-e51c-46ea-84ea-5d47fa8b196d');\n",
              "        const dataTable =\n",
              "          await google.colab.kernel.invokeFunction('convertToInteractive',\n",
              "                                                    [key], {});\n",
              "        if (!dataTable) return;\n",
              "\n",
              "        const docLinkHtml = 'Like what you see? Visit the ' +\n",
              "          '<a target=\"_blank\" href=https://colab.research.google.com/notebooks/data_table.ipynb>data table notebook</a>'\n",
              "          + ' to learn more about interactive tables.';\n",
              "        element.innerHTML = '';\n",
              "        dataTable['output_type'] = 'display_data';\n",
              "        await google.colab.output.renderOutput(dataTable, element);\n",
              "        const docLink = document.createElement('div');\n",
              "        docLink.innerHTML = docLinkHtml;\n",
              "        element.appendChild(docLink);\n",
              "      }\n",
              "    </script>\n",
              "  </div>\n",
              "\n",
              "\n",
              "<div id=\"df-9b633c04-a7c0-48dc-985c-5492b83c35af\">\n",
              "  <button class=\"colab-df-quickchart\" onclick=\"quickchart('df-9b633c04-a7c0-48dc-985c-5492b83c35af')\"\n",
              "            title=\"Suggest charts.\"\n",
              "            style=\"display:none;\">\n",
              "\n",
              "<svg xmlns=\"http://www.w3.org/2000/svg\" height=\"24px\"viewBox=\"0 0 24 24\"\n",
              "     width=\"24px\">\n",
              "    <g>\n",
              "        <path d=\"M19 3H5c-1.1 0-2 .9-2 2v14c0 1.1.9 2 2 2h14c1.1 0 2-.9 2-2V5c0-1.1-.9-2-2-2zM9 17H7v-7h2v7zm4 0h-2V7h2v10zm4 0h-2v-4h2v4z\"/>\n",
              "    </g>\n",
              "</svg>\n",
              "  </button>\n",
              "\n",
              "<style>\n",
              "  .colab-df-quickchart {\n",
              "      --bg-color: #E8F0FE;\n",
              "      --fill-color: #1967D2;\n",
              "      --hover-bg-color: #E2EBFA;\n",
              "      --hover-fill-color: #174EA6;\n",
              "      --disabled-fill-color: #AAA;\n",
              "      --disabled-bg-color: #DDD;\n",
              "  }\n",
              "\n",
              "  [theme=dark] .colab-df-quickchart {\n",
              "      --bg-color: #3B4455;\n",
              "      --fill-color: #D2E3FC;\n",
              "      --hover-bg-color: #434B5C;\n",
              "      --hover-fill-color: #FFFFFF;\n",
              "      --disabled-bg-color: #3B4455;\n",
              "      --disabled-fill-color: #666;\n",
              "  }\n",
              "\n",
              "  .colab-df-quickchart {\n",
              "    background-color: var(--bg-color);\n",
              "    border: none;\n",
              "    border-radius: 50%;\n",
              "    cursor: pointer;\n",
              "    display: none;\n",
              "    fill: var(--fill-color);\n",
              "    height: 32px;\n",
              "    padding: 0;\n",
              "    width: 32px;\n",
              "  }\n",
              "\n",
              "  .colab-df-quickchart:hover {\n",
              "    background-color: var(--hover-bg-color);\n",
              "    box-shadow: 0 1px 2px rgba(60, 64, 67, 0.3), 0 1px 3px 1px rgba(60, 64, 67, 0.15);\n",
              "    fill: var(--button-hover-fill-color);\n",
              "  }\n",
              "\n",
              "  .colab-df-quickchart-complete:disabled,\n",
              "  .colab-df-quickchart-complete:disabled:hover {\n",
              "    background-color: var(--disabled-bg-color);\n",
              "    fill: var(--disabled-fill-color);\n",
              "    box-shadow: none;\n",
              "  }\n",
              "\n",
              "  .colab-df-spinner {\n",
              "    border: 2px solid var(--fill-color);\n",
              "    border-color: transparent;\n",
              "    border-bottom-color: var(--fill-color);\n",
              "    animation:\n",
              "      spin 1s steps(1) infinite;\n",
              "  }\n",
              "\n",
              "  @keyframes spin {\n",
              "    0% {\n",
              "      border-color: transparent;\n",
              "      border-bottom-color: var(--fill-color);\n",
              "      border-left-color: var(--fill-color);\n",
              "    }\n",
              "    20% {\n",
              "      border-color: transparent;\n",
              "      border-left-color: var(--fill-color);\n",
              "      border-top-color: var(--fill-color);\n",
              "    }\n",
              "    30% {\n",
              "      border-color: transparent;\n",
              "      border-left-color: var(--fill-color);\n",
              "      border-top-color: var(--fill-color);\n",
              "      border-right-color: var(--fill-color);\n",
              "    }\n",
              "    40% {\n",
              "      border-color: transparent;\n",
              "      border-right-color: var(--fill-color);\n",
              "      border-top-color: var(--fill-color);\n",
              "    }\n",
              "    60% {\n",
              "      border-color: transparent;\n",
              "      border-right-color: var(--fill-color);\n",
              "    }\n",
              "    80% {\n",
              "      border-color: transparent;\n",
              "      border-right-color: var(--fill-color);\n",
              "      border-bottom-color: var(--fill-color);\n",
              "    }\n",
              "    90% {\n",
              "      border-color: transparent;\n",
              "      border-bottom-color: var(--fill-color);\n",
              "    }\n",
              "  }\n",
              "</style>\n",
              "\n",
              "  <script>\n",
              "    async function quickchart(key) {\n",
              "      const quickchartButtonEl =\n",
              "        document.querySelector('#' + key + ' button');\n",
              "      quickchartButtonEl.disabled = true;  // To prevent multiple clicks.\n",
              "      quickchartButtonEl.classList.add('colab-df-spinner');\n",
              "      try {\n",
              "        const charts = await google.colab.kernel.invokeFunction(\n",
              "            'suggestCharts', [key], {});\n",
              "      } catch (error) {\n",
              "        console.error('Error during call to suggestCharts:', error);\n",
              "      }\n",
              "      quickchartButtonEl.classList.remove('colab-df-spinner');\n",
              "      quickchartButtonEl.classList.add('colab-df-quickchart-complete');\n",
              "    }\n",
              "    (() => {\n",
              "      let quickchartButtonEl =\n",
              "        document.querySelector('#df-9b633c04-a7c0-48dc-985c-5492b83c35af button');\n",
              "      quickchartButtonEl.style.display =\n",
              "        google.colab.kernel.accessAllowed ? 'block' : 'none';\n",
              "    })();\n",
              "  </script>\n",
              "</div>\n",
              "    </div>\n",
              "  </div>\n"
            ]
          },
          "metadata": {},
          "execution_count": 11
        }
      ],
      "source": [
        "train_data = pd.read_csv(DATA_TRAIN_PATH, sep='\\t', quoting=3)\n",
        "\n",
        "print(train_data.shape)\n",
        "train_data.head()"
      ]
    },
    {
      "cell_type": "code",
      "execution_count": 12,
      "metadata": {
        "colab": {
          "base_uri": "https://localhost:8080/"
        },
        "id": "42U-cU9lMmKD",
        "outputId": "24cd81a7-8aeb-44db-8262-2c0311820746"
      },
      "outputs": [
        {
          "output_type": "execute_result",
          "data": {
            "text/plain": [
              "id          0\n",
              "document    5\n",
              "label       0\n",
              "dtype: int64"
            ]
          },
          "metadata": {},
          "execution_count": 12
        }
      ],
      "source": [
        "train_data.isnull().sum()"
      ]
    },
    {
      "cell_type": "code",
      "execution_count": 13,
      "metadata": {
        "colab": {
          "base_uri": "https://localhost:8080/"
        },
        "id": "f3Bm3wxwMmKD",
        "outputId": "21268b8d-ce02-4521-8a60-07aa2f787672"
      },
      "outputs": [
        {
          "output_type": "execute_result",
          "data": {
            "text/plain": [
              "(149995, 3)"
            ]
          },
          "metadata": {},
          "execution_count": 13
        }
      ],
      "source": [
        "train_data.dropna(inplace=True)\n",
        "\n",
        "train_data.shape"
      ]
    },
    {
      "cell_type": "markdown",
      "metadata": {
        "id": "4h4yXblIMmKE"
      },
      "source": [
        "## 학습을 위해 text 를 따로 저장\n",
        "tokenizer word piece 학습을 위해서\n",
        "데이터를 별도 파일로 저장해놔야함."
      ]
    },
    {
      "cell_type": "code",
      "source": [
        "with open('./nsmc.txt', 'w', encoding='utf-8') as f:\n",
        "    for line in train_data.document.values:\n",
        "        try:\n",
        "            f.write(line + '\\n')\n",
        "        except:\n",
        "            print(\"write error ---> \", line)"
      ],
      "metadata": {
        "id": "uV0t8aZ0hTOf"
      },
      "execution_count": 14,
      "outputs": []
    },
    {
      "cell_type": "code",
      "source": [
        "with open('./nsmc.txt', 'r', encoding='utf-8') as f:\n",
        "    nsmc_txt = f.read().split('\\n')\n",
        "\n",
        "print(len(nsmc_txt))\n",
        "print(nsmc_txt[0])"
      ],
      "metadata": {
        "colab": {
          "base_uri": "https://localhost:8080/"
        },
        "id": "TX1qgmtbhTSU",
        "outputId": "c5248fb2-9309-42a2-d93e-e07193881c00"
      },
      "execution_count": 15,
      "outputs": [
        {
          "output_type": "stream",
          "name": "stdout",
          "text": [
            "149996\n",
            "아 더빙.. 진짜 짜증나네요 목소리\n"
          ]
        }
      ]
    },
    {
      "cell_type": "code",
      "source": [
        "input_file = './nsmc.txt'\n",
        "vocab_size = 30000\n",
        "prefix = 'nsmc'\n",
        "\n",
        "cmd = '--input={} --model_prefix={} --vocab_size={}'.format(input_file, prefix, vocab_size)\n",
        "cmd"
      ],
      "metadata": {
        "colab": {
          "base_uri": "https://localhost:8080/",
          "height": 35
        },
        "id": "NXtGLYzshTVk",
        "outputId": "5e0a91bb-633f-4dbc-f0f4-ebf3f41d61be"
      },
      "execution_count": 16,
      "outputs": [
        {
          "output_type": "execute_result",
          "data": {
            "text/plain": [
              "'--input=./nsmc.txt --model_prefix=nsmc --vocab_size=30000'"
            ],
            "application/vnd.google.colaboratory.intrinsic+json": {
              "type": "string"
            }
          },
          "metadata": {},
          "execution_count": 16
        }
      ]
    },
    {
      "cell_type": "markdown",
      "source": [
        "### sentencepiece tokenizer training"
      ],
      "metadata": {
        "id": "WjV2eImWkgHD"
      }
    },
    {
      "cell_type": "markdown",
      "source": [
        "- SentencePieceTrainer.Train()로 사용"
      ],
      "metadata": {
        "id": "p0CCBUJCjgUn"
      }
    },
    {
      "cell_type": "code",
      "source": [
        "spm.SentencePieceTrainer.Train(cmd)"
      ],
      "metadata": {
        "id": "UipycAxSidnM"
      },
      "execution_count": 17,
      "outputs": []
    },
    {
      "cell_type": "markdown",
      "source": [
        "- True가 나올 시 모델 정상 작동"
      ],
      "metadata": {
        "id": "N9XmoJQjjZ_j"
      }
    },
    {
      "cell_type": "code",
      "source": [
        "sp = spm.SentencePieceProcessor()\n",
        "sp.Load(\"nsmc.model\")"
      ],
      "metadata": {
        "colab": {
          "base_uri": "https://localhost:8080/"
        },
        "id": "qpOKJoWtidqt",
        "outputId": "5d9403e8-5478-4145-98a0-bd127b8924fd"
      },
      "execution_count": 18,
      "outputs": [
        {
          "output_type": "execute_result",
          "data": {
            "text/plain": [
              "True"
            ]
          },
          "metadata": {},
          "execution_count": 18
        }
      ]
    },
    {
      "cell_type": "markdown",
      "source": [
        "- sp.encode_as_pieces() -> 문장을 Sentencepiece화\n",
        "- sp.encode_as_ids() -> 수열로 토큰화"
      ],
      "metadata": {
        "id": "B-HhU63TkCBt"
      }
    },
    {
      "cell_type": "code",
      "source": [
        "for s in train_data.document.values[:3]:\n",
        "    print(s)\n",
        "    print(sp.encode_as_pieces(s))\n",
        "    print(sp.encode_as_ids(s))\n",
        "    print()"
      ],
      "metadata": {
        "colab": {
          "base_uri": "https://localhost:8080/"
        },
        "id": "LFmp3MfXidt1",
        "outputId": "9fdc2fbf-9b0c-4288-eab1-4ba6b3e707b6"
      },
      "execution_count": 19,
      "outputs": [
        {
          "output_type": "stream",
          "name": "stdout",
          "text": [
            "아 더빙.. 진짜 짜증나네요 목소리\n",
            "['▁아', '▁더빙', '..', '▁진짜', '▁짜증나네요', '▁목소리']\n",
            "[53, 751, 5, 25, 15853, 1405]\n",
            "\n",
            "흠...포스터보고 초딩영화줄....오버연기조차 가볍지 않구나\n",
            "['▁흠', '...', '포스터보고', '▁초딩영화', '줄', '....', '오버', '연기', '조차', '▁가볍지', '▁않', '구나']\n",
            "[1239, 6, 12536, 18315, 396, 47, 17886, 395, 1134, 6404, 1063, 423]\n",
            "\n",
            "너무재밓었다그래서보는것을추천한다\n",
            "['▁너무', '재', '밓', '었다', '그래서', '보는것', '을', '추천', '한다']\n",
            "[18, 611, 21195, 640, 2752, 11171, 14, 2315, 298]\n",
            "\n"
          ]
        }
      ]
    },
    {
      "cell_type": "code",
      "source": [
        "for s in sentences_K:\n",
        "    print(s)\n",
        "    print(sp.encode_as_pieces(s))\n",
        "    print(sp.encode_as_ids(s))\n",
        "    print()"
      ],
      "metadata": {
        "colab": {
          "base_uri": "https://localhost:8080/"
        },
        "id": "QJAECmrahTYa",
        "outputId": "81e2ecd3-ef59-4c4d-f32b-16494b02ac9e"
      },
      "execution_count": 20,
      "outputs": [
        {
          "output_type": "stream",
          "name": "stdout",
          "text": [
            "코로나가 심하다\n",
            "['▁코', '로', '나', '가', '▁심하다']\n",
            "[1482, 29, 33, 13, 5371]\n",
            "\n",
            "코비드-19가 심하다\n",
            "['▁코', '비', '드', '-', '19', '가', '▁심하다']\n",
            "[1482, 334, 266, 287, 3859, 13, 5371]\n",
            "\n",
            "아버지가방에들어가신다\n",
            "['▁아버지가', '방', '에', '들어가', '신', '다']\n",
            "[6158, 627, 16, 13026, 272, 23]\n",
            "\n",
            "아버지가 방에 들어가신다\n",
            "['▁아버지가', '▁방', '에', '▁들어가', '신', '다']\n",
            "[6158, 1673, 16, 3872, 272, 23]\n",
            "\n",
            "너무너무너무는 나카무라세이코가 불러 크게 히트한 노래입니다\n",
            "['▁너무너무너무', '는', '▁나카', '무라', '세', '이', '코가', '▁불러', '▁크게', '▁히트', '한', '▁노래', '입니다']\n",
            "[14213, 12, 17034, 10019, 247, 10, 12900, 3403, 1856, 12030, 30, 763, 222]\n",
            "\n"
          ]
        }
      ]
    }
  ],
  "metadata": {
    "colab": {
      "provenance": [],
      "gpuType": "T4",
      "include_colab_link": true
    },
    "kernelspec": {
      "display_name": "Python 3",
      "name": "python3"
    },
    "language_info": {
      "codemirror_mode": {
        "name": "ipython",
        "version": 3
      },
      "file_extension": ".py",
      "mimetype": "text/x-python",
      "name": "python",
      "nbconvert_exporter": "python",
      "pygments_lexer": "ipython3",
      "version": "3.9.7"
    },
    "accelerator": "GPU"
  },
  "nbformat": 4,
  "nbformat_minor": 0
}