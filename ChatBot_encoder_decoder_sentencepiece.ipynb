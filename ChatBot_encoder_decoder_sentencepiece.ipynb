{
  "cells": [
    {
      "cell_type": "markdown",
      "metadata": {
        "id": "view-in-github",
        "colab_type": "text"
      },
      "source": [
        "<a href=\"https://colab.research.google.com/github/junhyeok8696/NLP/blob/main/ChatBot_encoder_decoder_sentencepiece.ipynb\" target=\"_parent\"><img src=\"https://colab.research.google.com/assets/colab-badge.svg\" alt=\"Open In Colab\"/></a>"
      ]
    },
    {
      "cell_type": "markdown",
      "metadata": {
        "id": "XmkplRCZlsgK"
      },
      "source": [
        "# Chatbot - seq2seq language model\n",
        "\n",
        "### Encoder-Decoder model\n",
        "\n",
        "- Chatbot_data_for_Korean v1.0 dataset (https://github.com/songys/Chatbot_data) 을 이용한 Chatbot model 개발\n",
        "\n",
        "- 챗봇 트레이닝용 문답 페어 11,876개  \n",
        "- 일상다반사 - 0,\n",
        "- 이별(부정) - 1,\n",
        "- 사랑(긍정) - 2 로 레이블링  \n",
        "\n",
        "<img src='https://github.com/ironmanciti/NLP_Lecture/raw/master/chatbot.png' width=600>"
      ]
    },
    {
      "cell_type": "code",
      "execution_count": 1,
      "metadata": {
        "id": "G3EOljBv8DoS",
        "colab": {
          "base_uri": "https://localhost:8080/"
        },
        "outputId": "2d3b3c38-ff1a-4b84-fa72-816bd931f978"
      },
      "outputs": [
        {
          "output_type": "stream",
          "name": "stdout",
          "text": [
            "\u001b[?25l     \u001b[90m━━━━━━━━━━━━━━━━━━━━━━━━━━━━━━━━━━━━━━━━\u001b[0m \u001b[32m0.0/1.3 MB\u001b[0m \u001b[31m?\u001b[0m eta \u001b[36m-:--:--\u001b[0m\r\u001b[2K     \u001b[91m━━━\u001b[0m\u001b[90m╺\u001b[0m\u001b[90m━━━━━━━━━━━━━━━━━━━━━━━━━━━━━━━━━━━━\u001b[0m \u001b[32m0.1/1.3 MB\u001b[0m \u001b[31m3.8 MB/s\u001b[0m eta \u001b[36m0:00:01\u001b[0m\r\u001b[2K     \u001b[90m━━━━━━━━━━━━━━━━━━━━━━━━━━━━━━━━━━━━━━━━\u001b[0m \u001b[32m1.3/1.3 MB\u001b[0m \u001b[31m21.0 MB/s\u001b[0m eta \u001b[36m0:00:00\u001b[0m\n",
            "\u001b[?25h"
          ]
        }
      ],
      "source": [
        "!pip install -q sentencepiece"
      ]
    },
    {
      "cell_type": "code",
      "execution_count": 3,
      "metadata": {
        "id": "c9_0sp0bly9-"
      },
      "outputs": [],
      "source": [
        "import numpy as np\n",
        "import pandas as pd\n",
        "import matplotlib.pyplot as plt\n",
        "import tensorflow as tf\n",
        "import sentencepiece as spm\n",
        "from tensorflow.keras.models import Model\n",
        "from tensorflow.keras.layers import Dense, Embedding, Input, LSTM\n",
        "from tensorflow.keras.preprocessing.text import Tokenizer\n",
        "from tensorflow.keras.preprocessing.sequence import pad_sequences\n",
        "from tensorflow.keras.utils import to_categorical, plot_model"
      ]
    },
    {
      "cell_type": "code",
      "execution_count": 4,
      "metadata": {
        "id": "DwX2QDgylsgL"
      },
      "outputs": [],
      "source": [
        "LATENT_DIM = 128                # encoding space 의 latent dimensionality\n",
        "EMBEDDING_DIM = 100"
      ]
    },
    {
      "cell_type": "markdown",
      "metadata": {
        "id": "sfuxDUlqKA0U"
      },
      "source": [
        "Train Data 불러오기"
      ]
    },
    {
      "cell_type": "code",
      "execution_count": 5,
      "metadata": {
        "colab": {
          "base_uri": "https://localhost:8080/",
          "height": 206
        },
        "id": "oAxrCnWLlsgO",
        "outputId": "8eca0f9e-b0f8-4c84-da23-9dc66ba5f528"
      },
      "outputs": [
        {
          "output_type": "execute_result",
          "data": {
            "text/plain": [
              "                 Q            A  label\n",
              "0           12시 땡!   하루가 또 가네요.      0\n",
              "1      1지망 학교 떨어졌어    위로해 드립니다.      0\n",
              "2     3박4일 놀러가고 싶다  여행은 언제나 좋죠.      0\n",
              "3  3박4일 정도 놀러가고 싶다  여행은 언제나 좋죠.      0\n",
              "4          PPL 심하네   눈살이 찌푸려지죠.      0"
            ],
            "text/html": [
              "\n",
              "  <div id=\"df-265f79f6-de24-4530-ba8c-d2059d008060\" class=\"colab-df-container\">\n",
              "    <div>\n",
              "<style scoped>\n",
              "    .dataframe tbody tr th:only-of-type {\n",
              "        vertical-align: middle;\n",
              "    }\n",
              "\n",
              "    .dataframe tbody tr th {\n",
              "        vertical-align: top;\n",
              "    }\n",
              "\n",
              "    .dataframe thead th {\n",
              "        text-align: right;\n",
              "    }\n",
              "</style>\n",
              "<table border=\"1\" class=\"dataframe\">\n",
              "  <thead>\n",
              "    <tr style=\"text-align: right;\">\n",
              "      <th></th>\n",
              "      <th>Q</th>\n",
              "      <th>A</th>\n",
              "      <th>label</th>\n",
              "    </tr>\n",
              "  </thead>\n",
              "  <tbody>\n",
              "    <tr>\n",
              "      <th>0</th>\n",
              "      <td>12시 땡!</td>\n",
              "      <td>하루가 또 가네요.</td>\n",
              "      <td>0</td>\n",
              "    </tr>\n",
              "    <tr>\n",
              "      <th>1</th>\n",
              "      <td>1지망 학교 떨어졌어</td>\n",
              "      <td>위로해 드립니다.</td>\n",
              "      <td>0</td>\n",
              "    </tr>\n",
              "    <tr>\n",
              "      <th>2</th>\n",
              "      <td>3박4일 놀러가고 싶다</td>\n",
              "      <td>여행은 언제나 좋죠.</td>\n",
              "      <td>0</td>\n",
              "    </tr>\n",
              "    <tr>\n",
              "      <th>3</th>\n",
              "      <td>3박4일 정도 놀러가고 싶다</td>\n",
              "      <td>여행은 언제나 좋죠.</td>\n",
              "      <td>0</td>\n",
              "    </tr>\n",
              "    <tr>\n",
              "      <th>4</th>\n",
              "      <td>PPL 심하네</td>\n",
              "      <td>눈살이 찌푸려지죠.</td>\n",
              "      <td>0</td>\n",
              "    </tr>\n",
              "  </tbody>\n",
              "</table>\n",
              "</div>\n",
              "    <div class=\"colab-df-buttons\">\n",
              "\n",
              "  <div class=\"colab-df-container\">\n",
              "    <button class=\"colab-df-convert\" onclick=\"convertToInteractive('df-265f79f6-de24-4530-ba8c-d2059d008060')\"\n",
              "            title=\"Convert this dataframe to an interactive table.\"\n",
              "            style=\"display:none;\">\n",
              "\n",
              "  <svg xmlns=\"http://www.w3.org/2000/svg\" height=\"24px\" viewBox=\"0 -960 960 960\">\n",
              "    <path d=\"M120-120v-720h720v720H120Zm60-500h600v-160H180v160Zm220 220h160v-160H400v160Zm0 220h160v-160H400v160ZM180-400h160v-160H180v160Zm440 0h160v-160H620v160ZM180-180h160v-160H180v160Zm440 0h160v-160H620v160Z\"/>\n",
              "  </svg>\n",
              "    </button>\n",
              "\n",
              "  <style>\n",
              "    .colab-df-container {\n",
              "      display:flex;\n",
              "      gap: 12px;\n",
              "    }\n",
              "\n",
              "    .colab-df-convert {\n",
              "      background-color: #E8F0FE;\n",
              "      border: none;\n",
              "      border-radius: 50%;\n",
              "      cursor: pointer;\n",
              "      display: none;\n",
              "      fill: #1967D2;\n",
              "      height: 32px;\n",
              "      padding: 0 0 0 0;\n",
              "      width: 32px;\n",
              "    }\n",
              "\n",
              "    .colab-df-convert:hover {\n",
              "      background-color: #E2EBFA;\n",
              "      box-shadow: 0px 1px 2px rgba(60, 64, 67, 0.3), 0px 1px 3px 1px rgba(60, 64, 67, 0.15);\n",
              "      fill: #174EA6;\n",
              "    }\n",
              "\n",
              "    .colab-df-buttons div {\n",
              "      margin-bottom: 4px;\n",
              "    }\n",
              "\n",
              "    [theme=dark] .colab-df-convert {\n",
              "      background-color: #3B4455;\n",
              "      fill: #D2E3FC;\n",
              "    }\n",
              "\n",
              "    [theme=dark] .colab-df-convert:hover {\n",
              "      background-color: #434B5C;\n",
              "      box-shadow: 0px 1px 3px 1px rgba(0, 0, 0, 0.15);\n",
              "      filter: drop-shadow(0px 1px 2px rgba(0, 0, 0, 0.3));\n",
              "      fill: #FFFFFF;\n",
              "    }\n",
              "  </style>\n",
              "\n",
              "    <script>\n",
              "      const buttonEl =\n",
              "        document.querySelector('#df-265f79f6-de24-4530-ba8c-d2059d008060 button.colab-df-convert');\n",
              "      buttonEl.style.display =\n",
              "        google.colab.kernel.accessAllowed ? 'block' : 'none';\n",
              "\n",
              "      async function convertToInteractive(key) {\n",
              "        const element = document.querySelector('#df-265f79f6-de24-4530-ba8c-d2059d008060');\n",
              "        const dataTable =\n",
              "          await google.colab.kernel.invokeFunction('convertToInteractive',\n",
              "                                                    [key], {});\n",
              "        if (!dataTable) return;\n",
              "\n",
              "        const docLinkHtml = 'Like what you see? Visit the ' +\n",
              "          '<a target=\"_blank\" href=https://colab.research.google.com/notebooks/data_table.ipynb>data table notebook</a>'\n",
              "          + ' to learn more about interactive tables.';\n",
              "        element.innerHTML = '';\n",
              "        dataTable['output_type'] = 'display_data';\n",
              "        await google.colab.output.renderOutput(dataTable, element);\n",
              "        const docLink = document.createElement('div');\n",
              "        docLink.innerHTML = docLinkHtml;\n",
              "        element.appendChild(docLink);\n",
              "      }\n",
              "    </script>\n",
              "  </div>\n",
              "\n",
              "\n",
              "<div id=\"df-a7956740-b022-4d35-8ae4-d2d925f431c0\">\n",
              "  <button class=\"colab-df-quickchart\" onclick=\"quickchart('df-a7956740-b022-4d35-8ae4-d2d925f431c0')\"\n",
              "            title=\"Suggest charts.\"\n",
              "            style=\"display:none;\">\n",
              "\n",
              "<svg xmlns=\"http://www.w3.org/2000/svg\" height=\"24px\"viewBox=\"0 0 24 24\"\n",
              "     width=\"24px\">\n",
              "    <g>\n",
              "        <path d=\"M19 3H5c-1.1 0-2 .9-2 2v14c0 1.1.9 2 2 2h14c1.1 0 2-.9 2-2V5c0-1.1-.9-2-2-2zM9 17H7v-7h2v7zm4 0h-2V7h2v10zm4 0h-2v-4h2v4z\"/>\n",
              "    </g>\n",
              "</svg>\n",
              "  </button>\n",
              "\n",
              "<style>\n",
              "  .colab-df-quickchart {\n",
              "      --bg-color: #E8F0FE;\n",
              "      --fill-color: #1967D2;\n",
              "      --hover-bg-color: #E2EBFA;\n",
              "      --hover-fill-color: #174EA6;\n",
              "      --disabled-fill-color: #AAA;\n",
              "      --disabled-bg-color: #DDD;\n",
              "  }\n",
              "\n",
              "  [theme=dark] .colab-df-quickchart {\n",
              "      --bg-color: #3B4455;\n",
              "      --fill-color: #D2E3FC;\n",
              "      --hover-bg-color: #434B5C;\n",
              "      --hover-fill-color: #FFFFFF;\n",
              "      --disabled-bg-color: #3B4455;\n",
              "      --disabled-fill-color: #666;\n",
              "  }\n",
              "\n",
              "  .colab-df-quickchart {\n",
              "    background-color: var(--bg-color);\n",
              "    border: none;\n",
              "    border-radius: 50%;\n",
              "    cursor: pointer;\n",
              "    display: none;\n",
              "    fill: var(--fill-color);\n",
              "    height: 32px;\n",
              "    padding: 0;\n",
              "    width: 32px;\n",
              "  }\n",
              "\n",
              "  .colab-df-quickchart:hover {\n",
              "    background-color: var(--hover-bg-color);\n",
              "    box-shadow: 0 1px 2px rgba(60, 64, 67, 0.3), 0 1px 3px 1px rgba(60, 64, 67, 0.15);\n",
              "    fill: var(--button-hover-fill-color);\n",
              "  }\n",
              "\n",
              "  .colab-df-quickchart-complete:disabled,\n",
              "  .colab-df-quickchart-complete:disabled:hover {\n",
              "    background-color: var(--disabled-bg-color);\n",
              "    fill: var(--disabled-fill-color);\n",
              "    box-shadow: none;\n",
              "  }\n",
              "\n",
              "  .colab-df-spinner {\n",
              "    border: 2px solid var(--fill-color);\n",
              "    border-color: transparent;\n",
              "    border-bottom-color: var(--fill-color);\n",
              "    animation:\n",
              "      spin 1s steps(1) infinite;\n",
              "  }\n",
              "\n",
              "  @keyframes spin {\n",
              "    0% {\n",
              "      border-color: transparent;\n",
              "      border-bottom-color: var(--fill-color);\n",
              "      border-left-color: var(--fill-color);\n",
              "    }\n",
              "    20% {\n",
              "      border-color: transparent;\n",
              "      border-left-color: var(--fill-color);\n",
              "      border-top-color: var(--fill-color);\n",
              "    }\n",
              "    30% {\n",
              "      border-color: transparent;\n",
              "      border-left-color: var(--fill-color);\n",
              "      border-top-color: var(--fill-color);\n",
              "      border-right-color: var(--fill-color);\n",
              "    }\n",
              "    40% {\n",
              "      border-color: transparent;\n",
              "      border-right-color: var(--fill-color);\n",
              "      border-top-color: var(--fill-color);\n",
              "    }\n",
              "    60% {\n",
              "      border-color: transparent;\n",
              "      border-right-color: var(--fill-color);\n",
              "    }\n",
              "    80% {\n",
              "      border-color: transparent;\n",
              "      border-right-color: var(--fill-color);\n",
              "      border-bottom-color: var(--fill-color);\n",
              "    }\n",
              "    90% {\n",
              "      border-color: transparent;\n",
              "      border-bottom-color: var(--fill-color);\n",
              "    }\n",
              "  }\n",
              "</style>\n",
              "\n",
              "  <script>\n",
              "    async function quickchart(key) {\n",
              "      const quickchartButtonEl =\n",
              "        document.querySelector('#' + key + ' button');\n",
              "      quickchartButtonEl.disabled = true;  // To prevent multiple clicks.\n",
              "      quickchartButtonEl.classList.add('colab-df-spinner');\n",
              "      try {\n",
              "        const charts = await google.colab.kernel.invokeFunction(\n",
              "            'suggestCharts', [key], {});\n",
              "      } catch (error) {\n",
              "        console.error('Error during call to suggestCharts:', error);\n",
              "      }\n",
              "      quickchartButtonEl.classList.remove('colab-df-spinner');\n",
              "      quickchartButtonEl.classList.add('colab-df-quickchart-complete');\n",
              "    }\n",
              "    (() => {\n",
              "      let quickchartButtonEl =\n",
              "        document.querySelector('#df-a7956740-b022-4d35-8ae4-d2d925f431c0 button');\n",
              "      quickchartButtonEl.style.display =\n",
              "        google.colab.kernel.accessAllowed ? 'block' : 'none';\n",
              "    })();\n",
              "  </script>\n",
              "</div>\n",
              "    </div>\n",
              "  </div>\n"
            ]
          },
          "metadata": {},
          "execution_count": 5
        }
      ],
      "source": [
        "df = pd.read_csv('https://raw.githubusercontent.com/junhyeok8696/NLP/main/ChatbotData.csv')\n",
        "df.head()"
      ]
    },
    {
      "cell_type": "code",
      "execution_count": 6,
      "metadata": {
        "colab": {
          "base_uri": "https://localhost:8080/"
        },
        "id": "Ggjm3RYylsgT",
        "outputId": "0c413829-8c71-4850-fea7-9e432a2a058e"
      },
      "outputs": [
        {
          "output_type": "stream",
          "name": "stdout",
          "text": [
            "<class 'pandas.core.frame.DataFrame'>\n",
            "RangeIndex: 11823 entries, 0 to 11822\n",
            "Data columns (total 3 columns):\n",
            " #   Column  Non-Null Count  Dtype \n",
            "---  ------  --------------  ----- \n",
            " 0   Q       11823 non-null  object\n",
            " 1   A       11823 non-null  object\n",
            " 2   label   11823 non-null  int64 \n",
            "dtypes: int64(1), object(2)\n",
            "memory usage: 277.2+ KB\n"
          ]
        }
      ],
      "source": [
        "df.info()"
      ]
    },
    {
      "cell_type": "markdown",
      "metadata": {
        "id": "tJ73w68NKG6A"
      },
      "source": [
        "Data 확인"
      ]
    },
    {
      "cell_type": "code",
      "source": [
        "df[['Q', 'A']].values"
      ],
      "metadata": {
        "colab": {
          "base_uri": "https://localhost:8080/"
        },
        "id": "Zmmb79RKAcIs",
        "outputId": "97cf0360-d3ed-4fad-e7ff-197a35061328"
      },
      "execution_count": 8,
      "outputs": [
        {
          "output_type": "execute_result",
          "data": {
            "text/plain": [
              "array([['12시 땡!', '하루가 또 가네요.'],\n",
              "       ['1지망 학교 떨어졌어', '위로해 드립니다.'],\n",
              "       ['3박4일 놀러가고 싶다', '여행은 언제나 좋죠.'],\n",
              "       ...,\n",
              "       ['흑기사 해주는 짝남.', '설렜겠어요.'],\n",
              "       ['힘든 연애 좋은 연애라는게 무슨 차이일까?', '잘 헤어질 수 있는 사이 여부인 거 같아요.'],\n",
              "       ['힘들어서 결혼할까봐', '도피성 결혼은 하지 않길 바라요.']], dtype=object)"
            ]
          },
          "metadata": {},
          "execution_count": 8
        }
      ]
    },
    {
      "cell_type": "code",
      "execution_count": 7,
      "metadata": {
        "colab": {
          "base_uri": "https://localhost:8080/"
        },
        "id": "nXpwdBi2lsgW",
        "outputId": "643c4d0b-244d-4c4e-a690-ef52eaa05501"
      },
      "outputs": [
        {
          "output_type": "execute_result",
          "data": {
            "text/plain": [
              "array([['12시 땡!', '하루가 또 가네요.'],\n",
              "       ['1지망 학교 떨어졌어', '위로해 드립니다.'],\n",
              "       ['3박4일 놀러가고 싶다', '여행은 언제나 좋죠.'],\n",
              "       ...,\n",
              "       ['흑기사 해주는 짝남.', '설렜겠어요.'],\n",
              "       ['힘든 연애 좋은 연애라는게 무슨 차이일까?', '잘 헤어질 수 있는 사이 여부인 거 같아요.'],\n",
              "       ['힘들어서 결혼할까봐', '도피성 결혼은 하지 않길 바라요.']], dtype=object)"
            ]
          },
          "metadata": {},
          "execution_count": 7
        }
      ],
      "source": [
        "df.iloc[:, [0, 1]].values"
      ]
    },
    {
      "cell_type": "markdown",
      "metadata": {
        "id": "VgosYfxgKKaw"
      },
      "source": [
        "Train 용 Question, Answer data 작성"
      ]
    },
    {
      "cell_type": "code",
      "execution_count": 11,
      "metadata": {
        "colab": {
          "base_uri": "https://localhost:8080/"
        },
        "id": "w_w_4kr8762q",
        "outputId": "015e8b88-a63e-4955-d2f6-97b26956d2fc"
      },
      "outputs": [
        {
          "output_type": "stream",
          "name": "stdout",
          "text": [
            "23646 11823 11823\n",
            "Question : \n",
            "['12시 땡!', '1지망 학교 떨어졌어', '3박4일 놀러가고 싶다', '3박4일 정도 놀러가고 싶다', 'PPL 심하네']\n",
            "Answer : \n",
            "['하루가 또 가네요.', '위로해 드립니다.', '여행은 언제나 좋죠.', '여행은 언제나 좋죠.', '눈살이 찌푸려지죠.']\n"
          ]
        }
      ],
      "source": [
        "All_texts = [] # sentencepiece tokenizer 학습에 사용\n",
        "Q_texts = []   # Encoder 입력에 사용\n",
        "A_texts = []   # Decoder 입력에 사용\n",
        "\n",
        "for Q, A in df.iloc[:, [0, 1]].values:\n",
        "    Q_texts.append(Q)\n",
        "    A_texts.append(A)\n",
        "\n",
        "All_texts = Q_texts + A_texts\n",
        "\n",
        "print(len(All_texts), len(Q_texts), len(A_texts))\n",
        "print(\"Question : \")\n",
        "print(Q_texts[:5])\n",
        "print(\"Answer : \")\n",
        "print(A_texts[:5])"
      ]
    },
    {
      "cell_type": "markdown",
      "metadata": {
        "id": "aiHERa4SKS9l"
      },
      "source": [
        "## Sentencepiece Tokenizer 학습을 위한 text file 생성"
      ]
    },
    {
      "cell_type": "code",
      "execution_count": 13,
      "metadata": {
        "id": "XJEFbpPv8u3O"
      },
      "outputs": [],
      "source": [
        "with open('chatbot_qna.txt', 'w', encoding='utf-8') as f:\n",
        "    for line in All_texts:\n",
        "        f.write(line + '\\n')"
      ]
    },
    {
      "cell_type": "code",
      "source": [
        "# '<sos>' == '<s>'\n",
        "# '<eos>' == '</s>'"
      ],
      "metadata": {
        "id": "AqeR9I34C3fZ"
      },
      "execution_count": 14,
      "outputs": []
    },
    {
      "cell_type": "code",
      "execution_count": 16,
      "metadata": {
        "id": "Ne2P_xEB81cf"
      },
      "outputs": [],
      "source": [
        "input_file = 'chatbot_qna.txt'\n",
        "pad_id = 0                     # <pad> token을 0으로 설정\n",
        "vocab_size = 5000              # vocab 사이즈\n",
        "prefix = 'chatbot_qna'         # 저장될 tokenizer 모델에 붙는 이름\n",
        "bos_id = 1                     # <s> token을 1로 설정\n",
        "eos_id = 2                     # </s> token을 2로 설정\n",
        "unk_id = 3                     # <unknown> token을 3으로 설정\n",
        "\n",
        "cmd = f'--input={input_file} \\\n",
        "--pad_id={pad_id} \\\n",
        "--bos_id={bos_id} \\\n",
        "--eos_id={eos_id} \\\n",
        "--unk_id={unk_id} \\\n",
        "--model_prefix={prefix} \\\n",
        "--vocab_size={vocab_size}'\n",
        "\n",
        "spm.SentencePieceTrainer.Train(cmd)"
      ]
    },
    {
      "cell_type": "markdown",
      "metadata": {
        "id": "ZC_GKVRAKezw"
      },
      "source": [
        "학습 완료된 sentencepiece tokenizer Load"
      ]
    },
    {
      "cell_type": "code",
      "execution_count": 17,
      "metadata": {
        "colab": {
          "base_uri": "https://localhost:8080/"
        },
        "id": "eeSxYOD581J0",
        "outputId": "963257dc-348d-4021-ebfa-14fe8eff93e8"
      },
      "outputs": [
        {
          "output_type": "execute_result",
          "data": {
            "text/plain": [
              "True"
            ]
          },
          "metadata": {},
          "execution_count": 17
        }
      ],
      "source": [
        "sp = spm.SentencePieceProcessor()\n",
        "sp.Load(f'{prefix}.model')"
      ]
    },
    {
      "cell_type": "code",
      "source": [
        "# DecodeIds() -> 수열을 다시 word로 바꿔줌"
      ],
      "metadata": {
        "id": "zlyLPEkAEVRV"
      },
      "execution_count": 19,
      "outputs": []
    },
    {
      "cell_type": "code",
      "execution_count": 20,
      "metadata": {
        "colab": {
          "base_uri": "https://localhost:8080/",
          "height": 35
        },
        "id": "ZDtQbg5KNo9q",
        "outputId": "580eeeb9-f5d9-41a2-842e-b29cb83d730e"
      },
      "outputs": [
        {
          "output_type": "execute_result",
          "data": {
            "text/plain": [
              "'운 나한테이 될고.'"
            ],
            "application/vnd.google.colaboratory.intrinsic+json": {
              "type": "string"
            }
          },
          "metadata": {},
          "execution_count": 20
        }
      ],
      "source": [
        "sp.DecodeIds([170, 367, 10, 129, 16, 4])"
      ]
    },
    {
      "cell_type": "markdown",
      "source": [
        "- keras tokenizer 사용 시\n",
        "- '<sos>' + target_input\n",
        "- target_input + '<eos>'"
      ],
      "metadata": {
        "id": "OaI7TbNCEjgf"
      }
    },
    {
      "cell_type": "markdown",
      "metadata": {
        "id": "-kw7Kp-nKujU"
      },
      "source": [
        "- Tokenize하기 전에 데이터 자체에 `<s>, </s>`를 넣어줘도 되지만, 패키지 자체에서 알아서 해주는 옵션(sp.SetEncodeExtraOptions)이 있습니다.\n",
        "\n",
        "- `sp.SetEncodeExtraOptions('bos:eos')` : 문장 양 끝에 `<s> , </s>` 추가"
      ]
    },
    {
      "cell_type": "code",
      "source": [
        "sp.SetEncodeExtraOptions('bos:')   # 문장 처음에 <s> 추가 --> Decoder Input에 사용\n",
        "pieces = sp.encode_as_pieces('아버지가 방에 들어가신다') # tokenizer\n",
        "print(pieces)\n",
        "\n",
        "ids = sp.encode_as_ids('아버지가 방에 들어가신다')       # texts_to_sequences\n",
        "print(ids)\n",
        "print(sp.DecodePieces(pieces))\n",
        "print(sp.DecodeIds(ids))"
      ],
      "metadata": {
        "colab": {
          "base_uri": "https://localhost:8080/"
        },
        "id": "F-WZQtfFFcci",
        "outputId": "144609b4-6f93-4e21-9df2-9e288ad651e7"
      },
      "execution_count": 24,
      "outputs": [
        {
          "output_type": "stream",
          "name": "stdout",
          "text": [
            "['<s>', '▁아', '버', '지', '가', '▁방', '에', '▁들어가', '신', '다']\n",
            "[1, 232, 2112, 14, 7, 1467, 31, 1665, 455, 57]\n",
            "아버지가 방에 들어가신다\n",
            "아버지가 방에 들어가신다\n"
          ]
        }
      ]
    },
    {
      "cell_type": "code",
      "source": [
        "sp.SetEncodeExtraOptions(':eos')   # 문장 끝에 </s>추가  --> Decoder target에 사용\n",
        "pieces = sp.encode_as_pieces('아버지가 방에 들어가신다')\n",
        "print(pieces)\n",
        "\n",
        "ids = sp.encode_as_ids('아버지가 방에 들어가신다')\n",
        "print(ids)\n",
        "print(sp.DecodePieces(pieces))\n",
        "print(sp.DecodeIds(ids))"
      ],
      "metadata": {
        "colab": {
          "base_uri": "https://localhost:8080/"
        },
        "id": "yFs5VjbaFyG1",
        "outputId": "0e0b3e5f-ec42-4f57-f179-bbc55f34d123"
      },
      "execution_count": 25,
      "outputs": [
        {
          "output_type": "stream",
          "name": "stdout",
          "text": [
            "['▁아', '버', '지', '가', '▁방', '에', '▁들어가', '신', '다', '</s>']\n",
            "[232, 2112, 14, 7, 1467, 31, 1665, 455, 57, 2]\n",
            "아버지가 방에 들어가신다\n",
            "아버지가 방에 들어가신다\n"
          ]
        }
      ]
    },
    {
      "cell_type": "markdown",
      "metadata": {
        "id": "D2HI74wRLpfB"
      },
      "source": [
        "### Question sequence 작성"
      ]
    },
    {
      "cell_type": "code",
      "execution_count": 26,
      "metadata": {
        "colab": {
          "base_uri": "https://localhost:8080/"
        },
        "id": "42VM1rBZF-74",
        "outputId": "150504e0-7d7b-4169-aa6d-493c16e950f7"
      },
      "outputs": [
        {
          "output_type": "stream",
          "name": "stdout",
          "text": [
            "[[4228, 299, 5, 4826, 72, 2], [291, 14, 933, 674, 1735, 2], [277, 1280, 2810, 76, 2964, 94, 2], [277, 1280, 2810, 76, 667, 2964, 94, 2], [5, 4549, 4549, 3, 1395, 64, 2]]\n"
          ]
        }
      ],
      "source": [
        "Q_sequences = [sp.encode_as_ids(sent) for sent in Q_texts]\n",
        "\n",
        "print(Q_sequences[:5])"
      ]
    },
    {
      "cell_type": "markdown",
      "metadata": {
        "id": "YAwXDJshLtzl"
      },
      "source": [
        "### Answer sequence input 작성"
      ]
    },
    {
      "cell_type": "code",
      "execution_count": 27,
      "metadata": {
        "colab": {
          "base_uri": "https://localhost:8080/"
        },
        "id": "h_hAyKJ_9iZO",
        "outputId": "4d2e6f6b-a5d4-49d1-9deb-ae23aa80206c"
      },
      "outputs": [
        {
          "output_type": "stream",
          "name": "stdout",
          "text": [
            "[[1, 282, 7, 113, 82, 23, 4], [1, 1459, 5, 3717, 4], [1, 293, 15, 385, 39, 207, 4], [1, 293, 15, 385, 39, 207, 4], [1, 208, 970, 10, 2434, 3090, 173, 14, 40, 4]]\n"
          ]
        }
      ],
      "source": [
        "sp.SetEncodeExtraOptions(\"bos:\") # 1로 시작\n",
        "A_sequences_inputs = [sp.encode_as_ids(sent) for sent in A_texts]\n",
        "\n",
        "print(A_sequences_inputs[:5])"
      ]
    },
    {
      "cell_type": "markdown",
      "metadata": {
        "id": "1myPZRUrLyYH"
      },
      "source": [
        "### Answer sequence target 작성"
      ]
    },
    {
      "cell_type": "code",
      "execution_count": 29,
      "metadata": {
        "colab": {
          "base_uri": "https://localhost:8080/"
        },
        "id": "QfjAYbV2-XJY",
        "outputId": "59089e00-7aa4-4799-e296-d6dc5a6d897a"
      },
      "outputs": [
        {
          "output_type": "stream",
          "name": "stdout",
          "text": [
            "[[282, 7, 113, 82, 23, 4, 2], [1459, 5, 3717, 4, 2], [293, 15, 385, 39, 207, 4, 2], [293, 15, 385, 39, 207, 4, 2], [208, 970, 10, 2434, 3090, 173, 14, 40, 4, 2]]\n"
          ]
        }
      ],
      "source": [
        "sp.SetEncodeExtraOptions(\":eos\") # 2로 종료\n",
        "A_sequences_targets = [sp.encode_as_ids(sent) for sent in A_texts]\n",
        "\n",
        "print(A_sequences_targets[:5])"
      ]
    },
    {
      "cell_type": "markdown",
      "metadata": {
        "id": "sxq0lWFpL18P"
      },
      "source": [
        "input text의  max length 지정"
      ]
    },
    {
      "cell_type": "code",
      "execution_count": 30,
      "metadata": {
        "colab": {
          "base_uri": "https://localhost:8080/",
          "height": 469
        },
        "id": "yTaMsc5Pv-3S",
        "outputId": "e93a9548-208f-46d2-89c3-aa661636ec2d"
      },
      "outputs": [
        {
          "output_type": "stream",
          "name": "stdout",
          "text": [
            "Target Text 의 최대 길이 : 56\n",
            "Target Text 의 최대 길이 : 76\n"
          ]
        },
        {
          "output_type": "display_data",
          "data": {
            "text/plain": [
              "<Figure size 640x480 with 1 Axes>"
            ],
            "image/png": "[encoded data removed]"
          },
          "metadata": {}
        }
      ],
      "source": [
        "max_len_Q = max(len(s) for s in Q_texts)\n",
        "print(\"Target Text 의 최대 길이 :\", max_len_Q)\n",
        "\n",
        "max_len_A = max(len(s) for s in A_texts)\n",
        "print(\"Target Text 의 최대 길이 :\", max_len_A)\n",
        "\n",
        "plt.hist([len(s) for s in All_texts]);"
      ]
    },
    {
      "cell_type": "markdown",
      "metadata": {
        "id": "ztI6kZL1y6Tv"
      },
      "source": [
        "Input sequence 의 최대 길이는 30 으로 정한다."
      ]
    },
    {
      "cell_type": "code",
      "execution_count": 31,
      "metadata": {
        "id": "y9Sv3xkLFkfp"
      },
      "outputs": [],
      "source": [
        "MAX_LEN = 30"
      ]
    },
    {
      "cell_type": "markdown",
      "metadata": {
        "id": "V1oBupk4lsgp"
      },
      "source": [
        "## sequence padding\n",
        "\n",
        "\n",
        "#### 주의 사항\n",
        "- encoder 는 thought vector 생성 목적이므로 default (pre) 로 padding\n",
        "\n",
        "- decoder 는 teacher forcing 을 해야하므로 post 로 padding"
      ]
    },
    {
      "cell_type": "code",
      "source": [
        "encoder_inputs = pad_sequences(Q_sequences, maxlen=MAX_LEN)\n",
        "print(\"encoder input shape : \", encoder_inputs.shape)\n",
        "print(\"encoder_inputs[0] : \", encoder_inputs[1500])\n",
        "\n",
        "decoder_inputs = pad_sequences(A_sequences_inputs, maxlen=MAX_LEN, padding='post')\n",
        "print(\"\\ndecoder input shape : \", decoder_inputs.shape)\n",
        "print(\"decoder_inputs[0] : \", decoder_inputs[1500])\n",
        "\n",
        "decoder_targets = pad_sequences(A_sequences_targets, maxlen=MAX_LEN, padding='post')\n",
        "print(\"\\nencoder target shape : \", decoder_targets.shape)\n",
        "print(\"encoder_targets[0] : \", decoder_targets[1500])"
      ],
      "metadata": {
        "colab": {
          "base_uri": "https://localhost:8080/"
        },
        "id": "y9CjMbW0KxGD",
        "outputId": "70064564-a9c5-402d-9415-ef8a7b1e0d58"
      },
      "execution_count": 33,
      "outputs": [
        {
          "output_type": "stream",
          "name": "stdout",
          "text": [
            "encoder input shape :  (11823, 30)\n",
            "encoder_inputs[0] :  [   0    0    0    0    0    0    0    0    0    0    0    0    0    0\n",
            "    0    0    0    0    0    0    0    0    0    0    0  162 1680  318\n",
            " 2391    2]\n",
            "\n",
            "decoder input shape :  (11823, 30)\n",
            "decoder_inputs[0] :  [   1 1145   33 3040   45    4    0    0    0    0    0    0    0    0\n",
            "    0    0    0    0    0    0    0    0    0    0    0    0    0    0\n",
            "    0    0]\n",
            "\n",
            "encoder target shape :  (11823, 30)\n",
            "encoder_targets[0] :  [1145   33 3040   45    4    2    0    0    0    0    0    0    0    0\n",
            "    0    0    0    0    0    0    0    0    0    0    0    0    0    0\n",
            "    0    0]\n"
          ]
        }
      ]
    },
    {
      "cell_type": "markdown",
      "metadata": {
        "id": "8s4EfHwOlsgu"
      },
      "source": [
        "## Build the model\n",
        "\n",
        "- encoder 와 decoder 의 embedding, lstm 및 dense layer 를 training 할 목적의 model 작성  \n",
        "\n",
        "- encoder 는 decoder 에 states [h, c] 만 전달\n",
        "\n",
        "- prediction 을 위한 inference model 은 training model 에서 만들어진 layer 들의 weight 를 이용하여 별도 작성  \n",
        "\n",
        "### Training : Encoder + Teacher Forcing model"
      ]
    },
    {
      "cell_type": "code",
      "source": [
        "# Encoder\n",
        "encoder_inputs_ = Input(shape=(MAX_LEN, ), name = 'Encoder_Input')\n",
        "\n",
        "# encoder의 embedding layer\n",
        "embedding_encoder = Embedding(vocab_size + 1, EMBEDDING_DIM)\n",
        "x = embedding_encoder(encoder_inputs_)\n",
        "\n",
        "encoder_outputs, h, c = LSTM(LATENT_DIM, return_state=True)(x)\n",
        "\n",
        "# encoder 는 hidden state and cell state 만 decoder로 전달\n",
        "encoder_states = [h, c] # --> thought vector\n",
        "\n",
        "encoder_model  = Model(encoder_inputs_, encoder_states)\n",
        "encoder_model.summary()"
      ],
      "metadata": {
        "colab": {
          "base_uri": "https://localhost:8080/"
        },
        "id": "D3h_bcSiMjWs",
        "outputId": "fbd9790f-0b1c-4fd1-8304-22c632e503fe"
      },
      "execution_count": 34,
      "outputs": [
        {
          "output_type": "stream",
          "name": "stdout",
          "text": [
            "Model: \"model\"\n",
            "_________________________________________________________________\n",
            " Layer (type)                Output Shape              Param #   \n",
            "=================================================================\n",
            " Encoder_Input (InputLayer)  [(None, 30)]              0         \n",
            "                                                                 \n",
            " embedding (Embedding)       (None, 30, 100)           500100    \n",
            "                                                                 \n",
            " lstm (LSTM)                 [(None, 128),             117248    \n",
            "                              (None, 128),                       \n",
            "                              (None, 128)]                       \n",
            "                                                                 \n",
            "=================================================================\n",
            "Total params: 617348 (2.35 MB)\n",
            "Trainable params: 617348 (2.35 MB)\n",
            "Non-trainable params: 0 (0.00 Byte)\n",
            "_________________________________________________________________\n"
          ]
        }
      ]
    },
    {
      "cell_type": "markdown",
      "metadata": {
        "id": "ep04zyIVNTn4"
      },
      "source": [
        "### Decoder model for Teacher Forcing\n",
        "- Training stage에서만 사용"
      ]
    },
    {
      "cell_type": "code",
      "source": [
        "# decoder 는 [h, c]를 initial state 로 사용\n",
        "decoder_inputs_ = Input(shape=(MAX_LEN, ), name = 'Decoder_Input')\n",
        "\n",
        "# decoder 의 embedding layer\n",
        "embedding_decoder = Embedding(vocab_size + 1, EMBEDDING_DIM)\n",
        "x = embedding_decoder(decoder_inputs_)\n",
        "\n",
        "decoder_lstm = LSTM(LATENT_DIM, return_sequences=True, return_state=True)\n",
        "\n",
        "# initial state = encoder [h, c]\n",
        "decoder_outputs, _, _ = decoder_lstm(x, initial_state = encoder_states)\n",
        "\n",
        "# final dense layer\n",
        "decoder_dense = Dense(vocab_size, activation='softmax', name='Decoder_Output')\n",
        "decoder_outputs = decoder_dense(decoder_outputs)\n",
        "\n",
        "# Teacher-Forcing Model 생성\n",
        "model_teacher_forcing = Model([encoder_inputs_, decoder_inputs_], decoder_outputs)\n",
        "\n",
        "# Model Compile\n",
        "model_teacher_forcing.compile(loss = 'sparse_categorical_crossentropy', optimizer='rmsprop',\n",
        "                              metrics = ['accuracy'])\n",
        "model_teacher_forcing.summary()"
      ],
      "metadata": {
        "colab": {
          "base_uri": "https://localhost:8080/"
        },
        "id": "mXVNl0nZNfd0",
        "outputId": "160927c0-17c7-4fa2-f575-2a9e6c8f7feb"
      },
      "execution_count": 36,
      "outputs": [
        {
          "output_type": "stream",
          "name": "stdout",
          "text": [
            "Model: \"model_1\"\n",
            "__________________________________________________________________________________________________\n",
            " Layer (type)                Output Shape                 Param #   Connected to                  \n",
            "==================================================================================================\n",
            " Encoder_Input (InputLayer)  [(None, 30)]                 0         []                            \n",
            "                                                                                                  \n",
            " Decoder_Input (InputLayer)  [(None, 30)]                 0         []                            \n",
            "                                                                                                  \n",
            " embedding (Embedding)       (None, 30, 100)              500100    ['Encoder_Input[0][0]']       \n",
            "                                                                                                  \n",
            " embedding_2 (Embedding)     (None, 30, 100)              500100    ['Decoder_Input[0][0]']       \n",
            "                                                                                                  \n",
            " lstm (LSTM)                 [(None, 128),                117248    ['embedding[0][0]']           \n",
            "                              (None, 128),                                                        \n",
            "                              (None, 128)]                                                        \n",
            "                                                                                                  \n",
            " lstm_1 (LSTM)               [(None, 30, 128),            117248    ['embedding_2[0][0]',         \n",
            "                              (None, 128),                           'lstm[0][1]',                \n",
            "                              (None, 128)]                           'lstm[0][2]']                \n",
            "                                                                                                  \n",
            " Decoder_Output (Dense)      (None, 30, 5000)             645000    ['lstm_1[0][0]']              \n",
            "                                                                                                  \n",
            "==================================================================================================\n",
            "Total params: 1879696 (7.17 MB)\n",
            "Trainable params: 1879696 (7.17 MB)\n",
            "Non-trainable params: 0 (0.00 Byte)\n",
            "__________________________________________________________________________________________________\n"
          ]
        }
      ]
    },
    {
      "cell_type": "code",
      "execution_count": 37,
      "metadata": {
        "colab": {
          "base_uri": "https://localhost:8080/",
          "height": 471
        },
        "id": "dzCp_kCYz0Hk",
        "outputId": "cba4cf63-b45b-4e6a-fdd4-b0fa447ddf7b"
      },
      "outputs": [
        {
          "output_type": "execute_result",
          "data": {
            "image/png": "[encoded data removed]",
            "text/plain": [
              "<IPython.core.display.Image object>"
            ]
          },
          "metadata": {},
          "execution_count": 37
        }
      ],
      "source": [
        "plot_model(model_teacher_forcing, show_shapes=True)"
      ]
    },
    {
      "cell_type": "markdown",
      "metadata": {
        "id": "U_m-UDAF5_BC"
      },
      "source": [
        "### Train the model"
      ]
    },
    {
      "cell_type": "code",
      "execution_count": 38,
      "metadata": {
        "colab": {
          "base_uri": "https://localhost:8080/"
        },
        "id": "HT4uZpNxlsgw",
        "outputId": "ae082cac-91a8-42b3-c42e-ca16946383a5",
        "scrolled": false
      },
      "outputs": [
        {
          "output_type": "stream",
          "name": "stdout",
          "text": [
            "Epoch 1/40\n",
            "148/148 [==============================] - 28s 124ms/step - loss: 2.4962 - accuracy: 0.7341 - val_loss: 1.9702 - val_accuracy: 0.7337\n",
            "Epoch 2/40\n",
            "148/148 [==============================] - 6s 38ms/step - loss: 1.5275 - accuracy: 0.7887 - val_loss: 1.8103 - val_accuracy: 0.7604\n",
            "Epoch 3/40\n",
            "148/148 [==============================] - 4s 30ms/step - loss: 1.4433 - accuracy: 0.8020 - val_loss: 1.7658 - val_accuracy: 0.7605\n",
            "Epoch 4/40\n",
            "148/148 [==============================] - 4s 25ms/step - loss: 1.4014 - accuracy: 0.8027 - val_loss: 1.7251 - val_accuracy: 0.7614\n",
            "Epoch 5/40\n",
            "148/148 [==============================] - 4s 25ms/step - loss: 1.3678 - accuracy: 0.8036 - val_loss: 1.7001 - val_accuracy: 0.7625\n",
            "Epoch 6/40\n",
            "148/148 [==============================] - 3s 23ms/step - loss: 1.3466 - accuracy: 0.8051 - val_loss: 1.6867 - val_accuracy: 0.7648\n",
            "Epoch 7/40\n",
            "148/148 [==============================] - 4s 24ms/step - loss: 1.3324 - accuracy: 0.8066 - val_loss: 1.6745 - val_accuracy: 0.7649\n",
            "Epoch 8/40\n",
            "148/148 [==============================] - 4s 25ms/step - loss: 1.3203 - accuracy: 0.8074 - val_loss: 1.6624 - val_accuracy: 0.7660\n",
            "Epoch 9/40\n",
            "148/148 [==============================] - 4s 25ms/step - loss: 1.3093 - accuracy: 0.8082 - val_loss: 1.6521 - val_accuracy: 0.7669\n",
            "Epoch 10/40\n",
            "148/148 [==============================] - 3s 23ms/step - loss: 1.2987 - accuracy: 0.8091 - val_loss: 1.6438 - val_accuracy: 0.7667\n",
            "Epoch 11/40\n",
            "148/148 [==============================] - 3s 22ms/step - loss: 1.2887 - accuracy: 0.8096 - val_loss: 1.6369 - val_accuracy: 0.7707\n",
            "Epoch 12/40\n",
            "148/148 [==============================] - 4s 26ms/step - loss: 1.2792 - accuracy: 0.8109 - val_loss: 1.6278 - val_accuracy: 0.7686\n",
            "Epoch 13/40\n",
            "148/148 [==============================] - 3s 20ms/step - loss: 1.2705 - accuracy: 0.8123 - val_loss: 1.6201 - val_accuracy: 0.7717\n",
            "Epoch 14/40\n",
            "148/148 [==============================] - 3s 20ms/step - loss: 1.2625 - accuracy: 0.8129 - val_loss: 1.6192 - val_accuracy: 0.7712\n",
            "Epoch 15/40\n",
            "148/148 [==============================] - 3s 22ms/step - loss: 1.2550 - accuracy: 0.8135 - val_loss: 1.6101 - val_accuracy: 0.7728\n",
            "Epoch 16/40\n",
            "148/148 [==============================] - 3s 23ms/step - loss: 1.2478 - accuracy: 0.8139 - val_loss: 1.6081 - val_accuracy: 0.7723\n",
            "Epoch 17/40\n",
            "148/148 [==============================] - 3s 19ms/step - loss: 1.2409 - accuracy: 0.8143 - val_loss: 1.6037 - val_accuracy: 0.7720\n",
            "Epoch 18/40\n",
            "148/148 [==============================] - 3s 20ms/step - loss: 1.2342 - accuracy: 0.8149 - val_loss: 1.5943 - val_accuracy: 0.7741\n",
            "Epoch 19/40\n",
            "148/148 [==============================] - 4s 24ms/step - loss: 1.2276 - accuracy: 0.8156 - val_loss: 1.5894 - val_accuracy: 0.7750\n",
            "Epoch 20/40\n",
            "148/148 [==============================] - 3s 20ms/step - loss: 1.2210 - accuracy: 0.8162 - val_loss: 1.5881 - val_accuracy: 0.7747\n",
            "Epoch 21/40\n",
            "148/148 [==============================] - 3s 21ms/step - loss: 1.2148 - accuracy: 0.8169 - val_loss: 1.5805 - val_accuracy: 0.7751\n",
            "Epoch 22/40\n",
            "148/148 [==============================] - 3s 20ms/step - loss: 1.2084 - accuracy: 0.8176 - val_loss: 1.5760 - val_accuracy: 0.7769\n",
            "Epoch 23/40\n",
            "148/148 [==============================] - 3s 20ms/step - loss: 1.2024 - accuracy: 0.8184 - val_loss: 1.5717 - val_accuracy: 0.7783\n",
            "Epoch 24/40\n",
            "148/148 [==============================] - 3s 21ms/step - loss: 1.1961 - accuracy: 0.8191 - val_loss: 1.5661 - val_accuracy: 0.7786\n",
            "Epoch 25/40\n",
            "148/148 [==============================] - 3s 21ms/step - loss: 1.1900 - accuracy: 0.8200 - val_loss: 1.5612 - val_accuracy: 0.7796\n",
            "Epoch 26/40\n",
            "148/148 [==============================] - 3s 22ms/step - loss: 1.1841 - accuracy: 0.8208 - val_loss: 1.5572 - val_accuracy: 0.7793\n",
            "Epoch 27/40\n",
            "148/148 [==============================] - 3s 22ms/step - loss: 1.1780 - accuracy: 0.8213 - val_loss: 1.5538 - val_accuracy: 0.7798\n",
            "Epoch 28/40\n",
            "148/148 [==============================] - 3s 20ms/step - loss: 1.1719 - accuracy: 0.8219 - val_loss: 1.5479 - val_accuracy: 0.7811\n",
            "Epoch 29/40\n",
            "148/148 [==============================] - 3s 20ms/step - loss: 1.1658 - accuracy: 0.8225 - val_loss: 1.5454 - val_accuracy: 0.7805\n",
            "Epoch 30/40\n",
            "148/148 [==============================] - 3s 21ms/step - loss: 1.1601 - accuracy: 0.8231 - val_loss: 1.5385 - val_accuracy: 0.7826\n",
            "Epoch 31/40\n",
            "148/148 [==============================] - 3s 21ms/step - loss: 1.1542 - accuracy: 0.8238 - val_loss: 1.5358 - val_accuracy: 0.7816\n",
            "Epoch 32/40\n",
            "148/148 [==============================] - 3s 20ms/step - loss: 1.1486 - accuracy: 0.8243 - val_loss: 1.5328 - val_accuracy: 0.7824\n",
            "Epoch 33/40\n",
            "148/148 [==============================] - 3s 20ms/step - loss: 1.1431 - accuracy: 0.8247 - val_loss: 1.5285 - val_accuracy: 0.7834\n",
            "Epoch 34/40\n",
            "148/148 [==============================] - 3s 20ms/step - loss: 1.1376 - accuracy: 0.8254 - val_loss: 1.5249 - val_accuracy: 0.7838\n",
            "Epoch 35/40\n",
            "148/148 [==============================] - 3s 19ms/step - loss: 1.1325 - accuracy: 0.8258 - val_loss: 1.5219 - val_accuracy: 0.7835\n",
            "Epoch 36/40\n",
            "148/148 [==============================] - 3s 20ms/step - loss: 1.1275 - accuracy: 0.8262 - val_loss: 1.5203 - val_accuracy: 0.7841\n",
            "Epoch 37/40\n",
            "148/148 [==============================] - 3s 19ms/step - loss: 1.1227 - accuracy: 0.8267 - val_loss: 1.5172 - val_accuracy: 0.7837\n",
            "Epoch 38/40\n",
            "148/148 [==============================] - 3s 22ms/step - loss: 1.1179 - accuracy: 0.8271 - val_loss: 1.5135 - val_accuracy: 0.7850\n",
            "Epoch 39/40\n",
            "148/148 [==============================] - 3s 19ms/step - loss: 1.1136 - accuracy: 0.8274 - val_loss: 1.5111 - val_accuracy: 0.7848\n",
            "Epoch 40/40\n",
            "148/148 [==============================] - 3s 20ms/step - loss: 1.1091 - accuracy: 0.8278 - val_loss: 1.5119 - val_accuracy: 0.7849\n"
          ]
        }
      ],
      "source": [
        "EPOCHS = 40\n",
        "BATCH_SIZE = 64\n",
        "history = model_teacher_forcing.fit([encoder_inputs, decoder_inputs], decoder_targets,\n",
        "                                    epochs=EPOCHS, batch_size=BATCH_SIZE, validation_split=0.2)"
      ]
    },
    {
      "cell_type": "markdown",
      "metadata": {
        "id": "jqt6bVBZN-ck"
      },
      "source": [
        "accuracy, loss 시각화"
      ]
    },
    {
      "cell_type": "code",
      "execution_count": 39,
      "metadata": {
        "colab": {
          "base_uri": "https://localhost:8080/",
          "height": 278
        },
        "id": "nCLIcYy8lsgy",
        "outputId": "973d7a5a-c465-4afc-df1c-333bf1970e7f"
      },
      "outputs": [
        {
          "output_type": "display_data",
          "data": {
            "text/plain": [
              "<Figure size 1200x400 with 2 Axes>"
            ],
            "image/png": "[encoded data removed]"
          },
          "metadata": {}
        }
      ],
      "source": [
        "# plot some data\n",
        "plt.figure(figsize=(12, 4))\n",
        "plt.subplot(1, 2, 1)\n",
        "plt.plot(history.history['loss'], label='loss')\n",
        "plt.plot(history.history['val_loss'], label='val_loss')\n",
        "plt.legend()\n",
        "\n",
        "# accuracies\n",
        "plt.subplot(1, 2, 2)\n",
        "plt.plot(history.history['accuracy'], label='acc')\n",
        "plt.plot(history.history['val_accuracy'], label='val_acc')\n",
        "plt.legend()\n",
        "plt.show()"
      ]
    },
    {
      "cell_type": "code",
      "execution_count": 40,
      "metadata": {
        "id": "qCkeujkMlsg0",
        "colab": {
          "base_uri": "https://localhost:8080/"
        },
        "outputId": "9752d42e-772b-4e3b-a954-2a6f4cfc2e53"
      },
      "outputs": [
        {
          "output_type": "stream",
          "name": "stderr",
          "text": [
            "/usr/local/lib/python3.10/dist-packages/keras/src/engine/training.py:3000: UserWarning: You are saving your model as an HDF5 file via `model.save()`. This file format is considered legacy. We recommend using instead the native Keras format, e.g. `model.save('my_model.keras')`.\n",
            "  saving_api.save_model(\n"
          ]
        }
      ],
      "source": [
        "# save model\n",
        "model_teacher_forcing.save('s2s.h5')"
      ]
    },
    {
      "cell_type": "markdown",
      "metadata": {
        "id": "B3n59rHJlsg1"
      },
      "source": [
        "### Make Predictions - Inference phase\n",
        "\n",
        "- prediction 을 위한 별도의 encoder model\n",
        "- encoder 의 states 를 initial state 로 받는 decoder model 작성  \n",
        "\n",
        "- encoder 는 training 단계와 동일하게 input_text 를 입력으로 받고 encoder_states 를 출력으로 하므로 이전에 define 한 encoder_input_ 과 encoder_states 변수 재사용"
      ]
    },
    {
      "cell_type": "code",
      "source": [
        "# Decoder for inference\n",
        "decoder_state_input_h = Input(shape=(LATENT_DIM, ), name='Decoder_hidden_h')\n",
        "decoder_state_input_c = Input(shape=(LATENT_DIM, ), name='Decoder_hidden_c')\n",
        "decoder_states_inputs = [decoder_state_input_h, decoder_state_input_c]\n",
        "\n",
        "decoder_inputs_single = Input(shape=(1, ), name='Decoder_input')\n",
        "x = embedding_decoder(decoder_inputs_single)\n",
        "\n",
        "# output, hidden state 저장\n",
        "decoder_outputs, h, c = decoder_lstm(x, initial_state = decoder_states_inputs)\n",
        "decoder_states = [h, c]\n",
        "\n",
        "decoder_outputs = decoder_dense(decoder_outputs)\n",
        "\n",
        "decoder_model = Model(\n",
        "    [decoder_inputs_single] + decoder_states_inputs,    #decoder_model.predict([target_seq] + states_value)\n",
        "    [decoder_outputs] + decoder_states\n",
        ")\n",
        "\n",
        "decoder_model.summary()"
      ],
      "metadata": {
        "colab": {
          "base_uri": "https://localhost:8080/"
        },
        "id": "zsl-4FsSSpOF",
        "outputId": "fa955cbe-8b05-4af3-b9de-9cc10e2a5edf"
      },
      "execution_count": 45,
      "outputs": [
        {
          "output_type": "stream",
          "name": "stdout",
          "text": [
            "Model: \"model_6\"\n",
            "__________________________________________________________________________________________________\n",
            " Layer (type)                Output Shape                 Param #   Connected to                  \n",
            "==================================================================================================\n",
            " Decoder_input (InputLayer)  [(None, 1)]                  0         []                            \n",
            "                                                                                                  \n",
            " embedding_2 (Embedding)     multiple                     500100    ['Decoder_input[0][0]']       \n",
            "                                                                                                  \n",
            " Decoder_hidden_h (InputLay  [(None, 128)]                0         []                            \n",
            " er)                                                                                              \n",
            "                                                                                                  \n",
            " Decoder_hidden_c (InputLay  [(None, 128)]                0         []                            \n",
            " er)                                                                                              \n",
            "                                                                                                  \n",
            " lstm_1 (LSTM)               multiple                     117248    ['embedding_2[5][0]',         \n",
            "                                                                     'Decoder_hidden_h[0][0]',    \n",
            "                                                                     'Decoder_hidden_c[0][0]']    \n",
            "                                                                                                  \n",
            " Decoder_Output (Dense)      multiple                     645000    ['lstm_1[5][0]']              \n",
            "                                                                                                  \n",
            "==================================================================================================\n",
            "Total params: 1262348 (4.82 MB)\n",
            "Trainable params: 1262348 (4.82 MB)\n",
            "Non-trainable params: 0 (0.00 Byte)\n",
            "__________________________________________________________________________________________________\n"
          ]
        }
      ]
    },
    {
      "cell_type": "code",
      "execution_count": 46,
      "metadata": {
        "colab": {
          "base_uri": "https://localhost:8080/",
          "height": 303
        },
        "id": "aClaYIzf0yns",
        "outputId": "e5229473-32d3-4bdc-fbbe-7501f4e185e1"
      },
      "outputs": [
        {
          "output_type": "execute_result",
          "data": {
            "image/png": "[encoded data removed]",
            "text/plain": [
              "<IPython.core.display.Image object>"
            ]
          },
          "metadata": {},
          "execution_count": 46
        }
      ],
      "source": [
        "plot_model(decoder_model, show_shapes=True)"
      ]
    },
    {
      "cell_type": "markdown",
      "metadata": {
        "id": "OS_0Zqpo-32_"
      },
      "source": [
        "### 다음의 inference module 작성\n",
        "- question 을 encoder 에 입력하여 thought vector 반환\n",
        "- start token 설정\n",
        "- 가장 확률 높은 next word 선택\n",
        "- end token 생성 될 때까지 반복\n",
        "- predict 결과가 sequence 로 반환되므로 index 를 word 로 변환"
      ]
    },
    {
      "cell_type": "code",
      "execution_count": 48,
      "metadata": {
        "id": "6i4yEvRC-zFg"
      },
      "outputs": [],
      "source": [
        "def decode_sequence(input_seq, temperature=1.0):\n",
        "    # 입력된 질문을 encoder 에 입력하여 state vector 생성\n",
        "    states_value = encoder_model.predict(input_seq)\n",
        "    # size 1 짜리 빈 target sequence 생성\n",
        "    target_seq = np.zeros((1, 1))\n",
        "    # target sequence 의 첫번째 character 를 <s> 로 assign -> 1\n",
        "    target_seq[0, 0] = 1\n",
        "    eos = 2  #</s>\n",
        "\n",
        "    # 답변 생성 시작\n",
        "    output_ids = []\n",
        "    for _ in range(max_len_A):\n",
        "        output_tokens, h, c = decoder_model.predict([target_seq] + states_value)\n",
        "\n",
        "        # 확률 분포에 따라 단어 샘플링\n",
        "        output_probs = output_tokens[0, 0, :]\n",
        "        idx = np.random.choice(len(output_probs), p=output_probs)\n",
        "\n",
        "        if eos == idx:  # End sentence of EOS\n",
        "            break\n",
        "\n",
        "        if idx > 0:      # idx 0 은 zero padding 이므로 skip\n",
        "            output_ids.append(int(idx))\n",
        "\n",
        "        # 생성된 word 를 decoder 의 다음 input 으로 사용\n",
        "        target_seq[0, 0] = idx\n",
        "        # Update states\n",
        "        states_value = [h, c]\n",
        "\n",
        "    return output_ids"
      ]
    },
    {
      "cell_type": "markdown",
      "metadata": {
        "id": "0tbXK6zjCBv8"
      },
      "source": [
        "- sample Q & A test"
      ]
    },
    {
      "cell_type": "code",
      "execution_count": 52,
      "metadata": {
        "colab": {
          "base_uri": "https://localhost:8080/"
        },
        "id": "EaVj30TGB-ny",
        "outputId": "4e287ca9-807d-450b-ffa0-0c326e778302"
      },
      "outputs": [
        {
          "output_type": "stream",
          "name": "stdout",
          "text": [
            "1/1 [==============================] - 0s 19ms/step\n",
            "1/1 [==============================] - 0s 22ms/step\n",
            "1/1 [==============================] - 0s 22ms/step\n",
            "1/1 [==============================] - 0s 21ms/step\n",
            "1/1 [==============================] - 0s 22ms/step\n",
            "1/1 [==============================] - 0s 22ms/step\n",
            "1/1 [==============================] - 0s 21ms/step\n",
            "1/1 [==============================] - 0s 22ms/step\n",
            "1/1 [==============================] - 0s 22ms/step\n",
            "1/1 [==============================] - 0s 21ms/step\n",
            "1/1 [==============================] - 0s 26ms/step\n",
            "1/1 [==============================] - 0s 19ms/step\n",
            "1/1 [==============================] - 0s 23ms/step\n",
            "-\n",
            "질문 : 염색해볼까?\n",
            "답변 : 생겼네를 위도 보고 행복할 도움가 말아요.\n",
            "1/1 [==============================] - 0s 18ms/step\n",
            "1/1 [==============================] - 0s 21ms/step\n",
            "1/1 [==============================] - 0s 21ms/step\n",
            "1/1 [==============================] - 0s 22ms/step\n",
            "1/1 [==============================] - 0s 21ms/step\n",
            "1/1 [==============================] - 0s 22ms/step\n",
            "1/1 [==============================] - 0s 21ms/step\n",
            "1/1 [==============================] - 0s 22ms/step\n",
            "1/1 [==============================] - 0s 21ms/step\n",
            "-\n",
            "질문 : 청소 해도 해도 더러워\n",
            "답변 : 누리 일어났고 재 있죠.\n",
            "1/1 [==============================] - 0s 17ms/step\n",
            "1/1 [==============================] - 0s 36ms/step\n",
            "1/1 [==============================] - 0s 35ms/step\n",
            "1/1 [==============================] - 0s 36ms/step\n",
            "1/1 [==============================] - 0s 32ms/step\n",
            "1/1 [==============================] - 0s 29ms/step\n",
            "1/1 [==============================] - 0s 30ms/step\n",
            "-\n",
            "질문 : 먹으면 살 찔까봐 걱정돼\n",
            "답변 : 진심이 사랑했던 것요.\n",
            "1/1 [==============================] - 0s 27ms/step\n",
            "1/1 [==============================] - 0s 30ms/step\n",
            "1/1 [==============================] - 0s 29ms/step\n",
            "1/1 [==============================] - 0s 37ms/step\n",
            "1/1 [==============================] - 0s 40ms/step\n",
            "1/1 [==============================] - 0s 28ms/step\n",
            "1/1 [==============================] - 0s 22ms/step\n",
            "1/1 [==============================] - 0s 23ms/step\n",
            "1/1 [==============================] - 0s 20ms/step\n",
            "1/1 [==============================] - 0s 22ms/step\n",
            "1/1 [==============================] - 0s 24ms/step\n",
            "1/1 [==============================] - 0s 23ms/step\n",
            "-\n",
            "질문 : 이러고있는게 잘하고있는건지.\n",
            "답변 : 가끔쓸 사들려 로심보세요.\n",
            "1/1 [==============================] - 0s 21ms/step\n",
            "1/1 [==============================] - 0s 20ms/step\n",
            "1/1 [==============================] - 0s 21ms/step\n",
            "1/1 [==============================] - 0s 20ms/step\n",
            "1/1 [==============================] - 0s 21ms/step\n",
            "1/1 [==============================] - 0s 22ms/step\n",
            "1/1 [==============================] - 0s 22ms/step\n",
            "1/1 [==============================] - 0s 21ms/step\n",
            "1/1 [==============================] - 0s 20ms/step\n",
            "-\n",
            "질문 : 할줄 아는 게 없어\n",
            "답변 : 지금 꿨하지 보인가봐요.\n"
          ]
        }
      ],
      "source": [
        "sp.Load(f'{prefix}.model')\n",
        "\n",
        "for _ in range(5):\n",
        "    i = np.random.choice(len(Q_texts))\n",
        "    input_seq = encoder_inputs[i:i+1]\n",
        "    response = decode_sequence(input_seq)\n",
        "    print('-')\n",
        "    print('질문 :', Q_texts[i])\n",
        "    print('답변 :', sp.DecodeIds(response))"
      ]
    },
    {
      "cell_type": "code",
      "execution_count": 58,
      "metadata": {
        "colab": {
          "base_uri": "https://localhost:8080/"
        },
        "id": "CWrUaHuZlsg6",
        "outputId": "8763bf01-d394-4d1a-974e-ef85a43f8870",
        "scrolled": true
      },
      "outputs": [
        {
          "output_type": "stream",
          "name": "stdout",
          "text": [
            "1/1 [==============================] - 0s 19ms/step\n",
            "1/1 [==============================] - 0s 22ms/step\n",
            "1/1 [==============================] - 0s 19ms/step\n",
            "1/1 [==============================] - 0s 20ms/step\n",
            "1/1 [==============================] - 0s 20ms/step\n",
            "1/1 [==============================] - 0s 20ms/step\n",
            "1/1 [==============================] - 0s 19ms/step\n",
            "1/1 [==============================] - 0s 21ms/step\n",
            "1/1 [==============================] - 0s 19ms/step\n",
            "1/1 [==============================] - 0s 19ms/step\n",
            "1/1 [==============================] - 0s 19ms/step\n",
            "1/1 [==============================] - 0s 18ms/step\n",
            "-\n",
            "질문 배고파요\n",
            "답변: 마음 수다부터꺼하고 꼭거라 아니요.\n"
          ]
        }
      ],
      "source": [
        "txt = \"배고파요\"\n",
        "input_sequence = sp.encode_as_ids(txt)\n",
        "encoder_input = pad_sequences([input_sequence], maxlen=MAX_LEN)\n",
        "\n",
        "response = decode_sequence(encoder_input)\n",
        "print('-')\n",
        "print('질문', txt)\n",
        "print('답변:', sp.DecodeIds(response))"
      ]
    },
    {
      "cell_type": "code",
      "execution_count": 56,
      "metadata": {
        "colab": {
          "base_uri": "https://localhost:8080/"
        },
        "id": "M0EdrUH8lsg8",
        "outputId": "43338852-ee08-4524-9c27-3a092b9d572f"
      },
      "outputs": [
        {
          "name": "stdout",
          "output_type": "stream",
          "text": [
            "챗봇 대화 시작 .....\n",
            "질문 :가스불 켜놓고 나온거 같아\n",
            "1/1 [==============================] - 0s 18ms/step\n",
            "1/1 [==============================] - 0s 21ms/step\n",
            "1/1 [==============================] - 0s 22ms/step\n",
            "1/1 [==============================] - 0s 20ms/step\n",
            "1/1 [==============================] - 0s 20ms/step\n",
            "1/1 [==============================] - 0s 22ms/step\n",
            "답변 : 잘이라세요.\n",
            "질문 :이런 내가 너무 싫어\n",
            "1/1 [==============================] - 0s 18ms/step\n",
            "1/1 [==============================] - 0s 19ms/step\n",
            "1/1 [==============================] - 0s 21ms/step\n",
            "1/1 [==============================] - 0s 19ms/step\n",
            "1/1 [==============================] - 0s 21ms/step\n",
            "답변 : 잘하고천.\n",
            "질문 :배고파\n",
            "1/1 [==============================] - 0s 20ms/step\n",
            "1/1 [==============================] - 0s 20ms/step\n",
            "1/1 [==============================] - 0s 22ms/step\n",
            "1/1 [==============================] - 0s 23ms/step\n",
            "1/1 [==============================] - 0s 22ms/step\n",
            "답변 : 제가이죠.\n",
            "질문 :quit\n"
          ]
        }
      ],
      "source": [
        "print(\"챗봇 대화 시작 .....\")\n",
        "\n",
        "while True:\n",
        "    txt = input(\"질문 :\")\n",
        "    if txt.lower() == \"quit\":\n",
        "        break\n",
        "\n",
        "    input_sequence = sp.encode_as_ids(txt)\n",
        "    encoder_input = pad_sequences([input_sequence], maxlen=MAX_LEN)\n",
        "\n",
        "    answer = decode_sequence(encoder_input)\n",
        "\n",
        "    print(\"답변 :\", sp.DecodeIds(answer))"
      ]
    }
  ],
  "metadata": {
    "accelerator": "GPU",
    "colab": {
      "provenance": [],
      "include_colab_link": true
    },
    "kernelspec": {
      "display_name": "Python 3",
      "language": "python",
      "name": "python3"
    },
    "language_info": {
      "codemirror_mode": {
        "name": "ipython",
        "version": 3
      },
      "file_extension": ".py",
      "mimetype": "text/x-python",
      "name": "python",
      "nbconvert_exporter": "python",
      "pygments_lexer": "ipython3",
      "version": "3.9.7"
    }
  },
  "nbformat": 4,
  "nbformat_minor": 0
}