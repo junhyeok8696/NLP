{
  "cells": [
    {
      "cell_type": "markdown",
      "metadata": {
        "id": "view-in-github",
        "colab_type": "text"
      },
      "source": [
        "<a href=\"https://colab.research.google.com/github/junhyeok8696/NLP/blob/main/NER_recognition_Bi_LSTM.ipynb\" target=\"_parent\"><img src=\"https://colab.research.google.com/assets/colab-badge.svg\" alt=\"Open In Colab\"/></a>"
      ]
    },
    {
      "cell_type": "markdown",
      "metadata": {
        "id": "ahCf1bGDKRlD"
      },
      "source": [
        "# 양방향 LSTM을 이용한 개체명 인식\n",
        "\n",
        "- Named Entity Recognition using Bi-LSTM\n",
        "\n",
        "\n",
        "- 개체명 인식은 챗봇 등에서 필요로 하는 주요 전처리 작업  (질문 문장의 어절을 일반화시키는 과정에서 개체명(Named Entity) 인식 사전을 활용)\n",
        "\n",
        "\n",
        "- 도메인 또는 목적에 특화되도록 개체명 인식을 정확하게 하는 방법 중 하나는 기존에 공개된 개체명 인식기를 사용하는 것이 아니라, 직접 목적에 맞는 데이터를 준비하여 기계를 훈련시켜 모델을 만드는 방법임  \n",
        "\n",
        "\n",
        "### BIO\n",
        "- B (Begin) - 개체명이 시작되는 부분  \n",
        "- I (Inside) - 개체명의 내부 부분  \n",
        "- O (Outside) - 개체명이 아닌 부분\n",
        "\n",
        "\n",
        "- 각 개체가 어떤 종류인지도 함께 태깅  \n",
        "```\n",
        "해 B-movie  \n",
        "리 I-movie  \n",
        "포 I-movie  \n",
        "터 I-movie  \n",
        "보 O  \n",
        "러 O  \n",
        "메 B-theater  \n",
        "가 I-theater  \n",
        "박 I-theater  \n",
        "스 I-theater  \n",
        "가 O  \n",
        "자 O  \n",
        "```\n",
        "\n"
      ]
    },
    {
      "cell_type": "markdown",
      "metadata": {
        "id": "F9lEkj0JKRlF"
      },
      "source": [
        "### CoNLL2003 dataset 이용\n",
        "\n",
        "- CoNLL -  the Conference on Natural Language Learning  \n",
        "\n",
        "\n",
        "- https://raw.githubusercontent.com/Franck-Dernoncourt/NeuroNER/master/neuroner/data/conll2003/en/train.txt  에서 download  \n",
        "\n",
        "\n",
        "\n",
        "- `[word][pos Tagging][chunk tagging][named entity tagging]` 의 4 column 형식으로 구성   \n",
        "\n",
        "\n",
        "- NE(Named Entity) tagging :   \n",
        "    LOC - location,   \n",
        "    ORG - organization,  \n",
        "    PER - person,   \n",
        "    MISC - miscellaneous,   \n",
        "    B - phrase 시작,   \n",
        "    I - inside phrase,   \n",
        "    O - phrase 의 일부가 아님\n",
        "```\n",
        "The DT B-NP O                             # 개체명 아님               \n",
        "European NNP I-NP B-ORG            # ORG type phrase 시작\n",
        "Commission NNP I-NP I-ORG         # phrase 에 속함 - ORG\n",
        "said VBD B-VP O                           # 개체명 아님\n",
        "on IN B-PP O\n",
        "Thursday NNP B-NP O\n",
        "it PRP B-NP O\n",
        "disagreed VBD B-VP O\n",
        "with IN B-PP O\n",
        "German JJ B-NP B-MISC                # MISC type phrase 시작\n",
        "advice NN I-NP O\n",
        "to TO B-PP O\n",
        "consumers NNS B-NP O\n",
        "to TO B-VP O\n",
        "shun VB I-VP O\n",
        "```"
      ]
    },
    {
      "cell_type": "markdown",
      "metadata": {
        "id": "JnYbpFg8KRlG"
      },
      "source": [
        "## Dataset download 및 전처리"
      ]
    },
    {
      "cell_type": "code",
      "execution_count": 1,
      "metadata": {
        "id": "5UnF6hiIKRlH"
      },
      "outputs": [],
      "source": [
        "import re\n",
        "import matplotlib.pyplot as plt\n",
        "import tensorflow as tf\n",
        "from tensorflow.keras.models import Sequential\n",
        "from tensorflow.keras.layers import Dense, LSTM, Bidirectional, Embedding, Activation\n",
        "from tensorflow.keras.optimizers import Adam\n",
        "from tensorflow.keras.preprocessing.text import Tokenizer\n",
        "from tensorflow.keras.preprocessing.sequence import pad_sequences\n",
        "from tensorflow.keras.utils import to_categorical\n",
        "from sklearn.model_selection import train_test_split\n",
        "import numpy as np"
      ]
    },
    {
      "cell_type": "markdown",
      "metadata": {
        "id": "x5J6R1UAKRlO"
      },
      "source": [
        "- `-DOCSTART- -X- -X- O` 로 file 시작\n",
        "-  문장 사이는 empty line 으로 구분"
      ]
    },
    {
      "cell_type": "code",
      "execution_count": 2,
      "metadata": {
        "id": "fx-IWiw4KRlP",
        "colab": {
          "base_uri": "https://localhost:8080/"
        },
        "outputId": "171e12bb-38ae-44bf-ff2c-b916aeb44f1d"
      },
      "outputs": [
        {
          "output_type": "stream",
          "name": "stdout",
          "text": [
            "Downloading data from https://raw.githubusercontent.com/Franck-Dernoncourt/NeuroNER/master/neuroner/data/conll2003/en/train.txt\n",
            "3283420/3283420 [==============================] - 0s 0us/step\n"
          ]
        }
      ],
      "source": [
        "file_path = tf.keras.utils.get_file(\"train.txt\",\n",
        "    \"https://raw.githubusercontent.com/Franck-Dernoncourt/NeuroNER/master/neuroner/data/conll2003/en/train.txt\")"
      ]
    },
    {
      "cell_type": "code",
      "source": [
        "file_path"
      ],
      "metadata": {
        "colab": {
          "base_uri": "https://localhost:8080/",
          "height": 36
        },
        "id": "iAqmXOuMvlA8",
        "outputId": "bcb8fea5-5b55-4eff-c878-b64fdc45a035"
      },
      "execution_count": 3,
      "outputs": [
        {
          "output_type": "execute_result",
          "data": {
            "text/plain": [
              "'/root/.keras/datasets/train.txt'"
            ],
            "application/vnd.google.colaboratory.intrinsic+json": {
              "type": "string"
            }
          },
          "metadata": {},
          "execution_count": 3
        }
      ]
    },
    {
      "cell_type": "code",
      "source": [
        "open(file_path, 'r').readlines()[:20]"
      ],
      "metadata": {
        "colab": {
          "base_uri": "https://localhost:8080/"
        },
        "id": "rt9xxrv0vlEF",
        "outputId": "d12b4343-3d52-4145-b981-8151cf0a7280"
      },
      "execution_count": 4,
      "outputs": [
        {
          "output_type": "execute_result",
          "data": {
            "text/plain": [
              "['-DOCSTART- -X- -X- O\\n',\n",
              " '\\n',\n",
              " 'EU NNP B-NP B-ORG\\n',\n",
              " 'rejects VBZ B-VP O\\n',\n",
              " 'German JJ B-NP B-MISC\\n',\n",
              " 'call NN I-NP O\\n',\n",
              " 'to TO B-VP O\\n',\n",
              " 'boycott VB I-VP O\\n',\n",
              " 'British JJ B-NP B-MISC\\n',\n",
              " 'lamb NN I-NP O\\n',\n",
              " '. . O O\\n',\n",
              " '\\n',\n",
              " 'Peter NNP B-NP B-PER\\n',\n",
              " 'Blackburn NNP I-NP I-PER\\n',\n",
              " '\\n',\n",
              " 'BRUSSELS NNP B-NP B-LOC\\n',\n",
              " '1996-08-22 CD I-NP O\\n',\n",
              " '\\n',\n",
              " 'The DT B-NP O\\n',\n",
              " 'European NNP I-NP B-ORG\\n']"
            ]
          },
          "metadata": {},
          "execution_count": 4
        }
      ]
    },
    {
      "cell_type": "code",
      "source": [
        "tagged_sentences = []\n",
        "sentence = []\n",
        "\n",
        "f = open(file_path, 'r')\n",
        "for line in f:\n",
        "    if len(line) == 0 or line.startswith('-DOCSTART') or line[0] == '\\n':\n",
        "        if len(sentence) > 0:\n",
        "            tagged_sentences.append(sentence)\n",
        "            sentence = []\n",
        "        continue\n",
        "\n",
        "    word, pos_tag, chunk_tag, ner = line.split()   # 공백을 기준으로 속성을 구분\n",
        "    ner = re.sub('\\n', '', ner)         #['German', 'JJ', 'B-NP', 'B-MISC\\n'] 에서 줄바꿈 제거\n",
        "    word = word.lower()                         # 단어들은 소문자로 바꿔서 저장\n",
        "    sentence.append((word, ner))                # 단어와 개체명 태깅만 사용\n",
        "\n",
        "tagged_sentences[0]"
      ],
      "metadata": {
        "colab": {
          "base_uri": "https://localhost:8080/"
        },
        "id": "WSDtUJOWvlG9",
        "outputId": "31d6afb2-23e7-4013-fefa-795f1681df2f"
      },
      "execution_count": 5,
      "outputs": [
        {
          "output_type": "execute_result",
          "data": {
            "text/plain": [
              "[('eu', 'B-ORG'),\n",
              " ('rejects', 'O'),\n",
              " ('german', 'B-MISC'),\n",
              " ('call', 'O'),\n",
              " ('to', 'O'),\n",
              " ('boycott', 'O'),\n",
              " ('british', 'B-MISC'),\n",
              " ('lamb', 'O'),\n",
              " ('.', 'O')]"
            ]
          },
          "metadata": {},
          "execution_count": 5
        }
      ]
    },
    {
      "cell_type": "code",
      "execution_count": 6,
      "metadata": {
        "colab": {
          "base_uri": "https://localhost:8080/"
        },
        "id": "Sw2Eds7yKRlX",
        "outputId": "13f630cd-a3e2-4c6f-9f42-3cce5362ea81"
      },
      "outputs": [
        {
          "output_type": "stream",
          "name": "stdout",
          "text": [
            "전체 샘플 개수:  14041\n"
          ]
        },
        {
          "output_type": "execute_result",
          "data": {
            "text/plain": [
              "[[('eu', 'B-ORG'),\n",
              "  ('rejects', 'O'),\n",
              "  ('german', 'B-MISC'),\n",
              "  ('call', 'O'),\n",
              "  ('to', 'O'),\n",
              "  ('boycott', 'O'),\n",
              "  ('british', 'B-MISC'),\n",
              "  ('lamb', 'O'),\n",
              "  ('.', 'O')],\n",
              " [('peter', 'B-PER'), ('blackburn', 'I-PER')],\n",
              " [('brussels', 'B-LOC'), ('1996-08-22', 'O')]]"
            ]
          },
          "metadata": {},
          "execution_count": 6
        }
      ],
      "source": [
        "print(\"전체 샘플 개수: \", len(tagged_sentences)) # 전체 샘플의 개수 출력\n",
        "tagged_sentences[:3]"
      ]
    },
    {
      "cell_type": "markdown",
      "metadata": {
        "id": "6UazdW9-KRlb"
      },
      "source": [
        "## N to N model\n",
        "\n",
        "### input, label data 작성을 위해 단어와 tag 를 분리"
      ]
    },
    {
      "cell_type": "code",
      "source": [
        "inputs, labels = [], []\n",
        "\n",
        "for pairs in tagged_sentences:\n",
        "    words, tags = zip(*pairs)\n",
        "    inputs.append(list(words))\n",
        "    labels.append(list(tags))\n",
        "\n",
        "print(inputs[10])\n",
        "print(labels[10])"
      ],
      "metadata": {
        "colab": {
          "base_uri": "https://localhost:8080/"
        },
        "id": "5wvx_a-hx23q",
        "outputId": "f1f655d8-6c17-4cf0-9b91-888c992cf61d"
      },
      "execution_count": 7,
      "outputs": [
        {
          "output_type": "stream",
          "name": "stdout",
          "text": [
            "['spanish', 'farm', 'minister', 'loyola', 'de', 'palacio', 'had', 'earlier', 'accused', 'fischler', 'at', 'an', 'eu', 'farm', 'ministers', \"'\", 'meeting', 'of', 'causing', 'unjustified', 'alarm', 'through', '\"', 'dangerous', 'generalisation', '.', '\"']\n",
            "['B-MISC', 'O', 'O', 'B-PER', 'I-PER', 'I-PER', 'O', 'O', 'O', 'B-PER', 'O', 'O', 'B-ORG', 'O', 'O', 'O', 'O', 'O', 'O', 'O', 'O', 'O', 'O', 'O', 'O', 'O', 'O']\n"
          ]
        }
      ]
    },
    {
      "cell_type": "code",
      "execution_count": 8,
      "metadata": {
        "colab": {
          "base_uri": "https://localhost:8080/",
          "height": 484
        },
        "id": "xb9fz0gJKRle",
        "outputId": "a6709800-9040-4c6a-ef75-537a5054c80e"
      },
      "outputs": [
        {
          "output_type": "stream",
          "name": "stdout",
          "text": [
            "샘플의 최대 길이 : 113\n",
            "샘플의 평균 길이 : 14.501887\n"
          ]
        },
        {
          "output_type": "display_data",
          "data": {
            "text/plain": [
              "<Figure size 640x480 with 1 Axes>"
            ],
            "image/png": "[encoded data removed]"
          },
          "metadata": {}
        }
      ],
      "source": [
        "print('샘플의 최대 길이 : {}'.format(max([len(w) for w in inputs])))\n",
        "print('샘플의 평균 길이 : {:4f}'.format(np.mean([len(w) for w in inputs])))\n",
        "plt.hist([len(s) for s in inputs], bins=50)\n",
        "plt.xlabel('length of samples')\n",
        "plt.ylabel('number of samples')\n",
        "plt.show()"
      ]
    },
    {
      "cell_type": "markdown",
      "metadata": {
        "id": "p1AaGLrrKRli"
      },
      "source": [
        "**sample 들의 길이가 대체적으로 0-40의 길이를 가지며, 특히 0-20의 길이를 가진 샘플이 상당한 비율을 차지**\n",
        "\n",
        "**keras 는 fixed size sequence 만 handling 가능하므로 max sequence length 를 60 으로 정함**"
      ]
    },
    {
      "cell_type": "code",
      "execution_count": 9,
      "metadata": {
        "id": "aV65lEC8KRlj"
      },
      "outputs": [],
      "source": [
        "MAX_LENGTH = 60"
      ]
    },
    {
      "cell_type": "markdown",
      "metadata": {
        "id": "aq76Z4n8KRlm"
      },
      "source": [
        "### 전체 word 수 check"
      ]
    },
    {
      "cell_type": "code",
      "execution_count": 10,
      "metadata": {
        "colab": {
          "base_uri": "https://localhost:8080/"
        },
        "id": "A_1epzSgKRlm",
        "outputId": "181deef1-e0aa-4a90-9801-07c1d8e455eb"
      },
      "outputs": [
        {
          "output_type": "execute_result",
          "data": {
            "text/plain": [
              "21009"
            ]
          },
          "metadata": {},
          "execution_count": 10
        }
      ],
      "source": [
        "tokenizer = Tokenizer()\n",
        "tokenizer.fit_on_texts(inputs)\n",
        "len(tokenizer.word_index)"
      ]
    },
    {
      "cell_type": "markdown",
      "metadata": {
        "id": "9VRiHehXKRlp"
      },
      "source": [
        "전체 token 갯수가 21009 개 이므로 상위 4000 개로 제한하여 vocabulary 재작성하고,  문장 데이터에 대해서는 entity_tokenizer를, 레이블에 해당되는 개체명 태깅 정보에 대해서는 tag_tokenizer를 작성"
      ]
    },
    {
      "cell_type": "code",
      "execution_count": 11,
      "metadata": {
        "id": "0fsoMdi3KRlp"
      },
      "outputs": [],
      "source": [
        "MAX_WORDS = 4000"
      ]
    },
    {
      "cell_type": "markdown",
      "metadata": {
        "id": "Xt93E8RcKRls"
      },
      "source": [
        "### train, test split"
      ]
    },
    {
      "cell_type": "code",
      "execution_count": 12,
      "metadata": {
        "colab": {
          "base_uri": "https://localhost:8080/"
        },
        "id": "Rb6uDARcKRlt",
        "outputId": "bf8ade2c-332f-4ec8-9c7f-8c090903a2e3"
      },
      "outputs": [
        {
          "output_type": "execute_result",
          "data": {
            "text/plain": [
              "(11232, 2809, 11232, 2809)"
            ]
          },
          "metadata": {},
          "execution_count": 12
        }
      ],
      "source": [
        "train_sentences, test_sentences, train_tags, test_tags = \\\n",
        "        train_test_split(inputs, labels, test_size=0.2, random_state=0)\n",
        "\n",
        "len(train_sentences), len(test_sentences), len(train_tags), len(test_tags)"
      ]
    },
    {
      "cell_type": "markdown",
      "metadata": {
        "id": "-aS7XCCGKRlv"
      },
      "source": [
        "### word vocabulary 작성\n",
        "\n",
        "- train data 는 validation set 을 볼 수 없으므로, entity tokenizer는 train_sentences 에 대해서만 tokenize 하고, tag tokenizer 는 전체 labels 에 대해 tokenize 한다."
      ]
    },
    {
      "cell_type": "code",
      "source": [
        "entity_tokenizer = Tokenizer(num_words=MAX_WORDS, oov_token='<OOV>')\n",
        "entity_tokenizer.fit_on_texts(train_sentences)\n",
        "\n",
        "tag_tokenizer = Tokenizer() # Tag는 몇 개 없기 떄문에 그대로 진행\n",
        "tag_tokenizer.fit_on_texts(labels)\n",
        "\n",
        "vocab_size = entity_tokenizer.num_words + 1      # MAX_WORDS\n",
        "tag_size = len(tag_tokenizer.word_index) + 1       #전체 word_index 갯수\n",
        "\n",
        "print('단어 집합의 크기 : {}'.format(vocab_size))\n",
        "print('개체명 태깅 정보 집합의 크기 : {}'.format(tag_size))"
      ],
      "metadata": {
        "colab": {
          "base_uri": "https://localhost:8080/"
        },
        "id": "XAfeGUJQ0lMH",
        "outputId": "645aec86-62cb-4522-b55d-8c04d522ebbc"
      },
      "execution_count": 13,
      "outputs": [
        {
          "output_type": "stream",
          "name": "stdout",
          "text": [
            "단어 집합의 크기 : 4001\n",
            "개체명 태깅 정보 집합의 크기 : 10\n"
          ]
        }
      ]
    },
    {
      "cell_type": "code",
      "source": [
        "vocab_sizes = len(entity_tokenizer.word_index) + 1\n",
        "tag_sizes = tag_tokenizer.num_words # 위에서 진행시 num_words 파라미터를 주지 않아 None\n",
        "vocab_sizes, tag_sizes"
      ],
      "metadata": {
        "colab": {
          "base_uri": "https://localhost:8080/"
        },
        "id": "MXL1rimO0lme",
        "outputId": "edac87d5-2d40-4835-fc96-d50fd2684eb2"
      },
      "execution_count": 14,
      "outputs": [
        {
          "output_type": "execute_result",
          "data": {
            "text/plain": [
              "(18896, None)"
            ]
          },
          "metadata": {},
          "execution_count": 14
        }
      ]
    },
    {
      "cell_type": "code",
      "execution_count": 15,
      "metadata": {
        "colab": {
          "base_uri": "https://localhost:8080/"
        },
        "id": "vZyrDz3vKRl0",
        "outputId": "f39dba07-0a18-48b5-cd5d-9059de439a48"
      },
      "outputs": [
        {
          "output_type": "stream",
          "name": "stdout",
          "text": [
            "{'o': 1, 'b-loc': 2, 'b-per': 3, 'b-org': 4, 'i-per': 5, 'i-org': 6, 'b-misc': 7, 'i-loc': 8, 'i-misc': 9}\n"
          ]
        }
      ],
      "source": [
        "print(tag_tokenizer.word_index)"
      ]
    },
    {
      "cell_type": "markdown",
      "metadata": {
        "id": "C81KquxQKRl2"
      },
      "source": [
        "### pad sequences  \n",
        "\n",
        "- sentence 와 tag 를 sequence 로 변환  "
      ]
    },
    {
      "cell_type": "code",
      "execution_count": 16,
      "metadata": {
        "colab": {
          "base_uri": "https://localhost:8080/"
        },
        "id": "AwA0kLfBKRl2",
        "outputId": "6c14916b-8181-40bc-f60a-501441908e40"
      },
      "outputs": [
        {
          "output_type": "execute_result",
          "data": {
            "text/plain": [
              "(11232, 11232, 2809, 2809)"
            ]
          },
          "metadata": {},
          "execution_count": 16
        }
      ],
      "source": [
        "X_train = entity_tokenizer.texts_to_sequences(train_sentences)\n",
        "y_train = tag_tokenizer.texts_to_sequences(train_tags)\n",
        "\n",
        "X_test = entity_tokenizer.texts_to_sequences(test_sentences)\n",
        "y_test = tag_tokenizer.texts_to_sequences(test_tags)\n",
        "\n",
        "len(X_train), len(y_train), len(X_test), len(y_test)"
      ]
    },
    {
      "cell_type": "code",
      "execution_count": 17,
      "metadata": {
        "colab": {
          "base_uri": "https://localhost:8080/"
        },
        "id": "Afj1xl_A6Y9O",
        "outputId": "1f81d59e-494b-4b6d-d65a-05f87df33fc0"
      },
      "outputs": [
        {
          "output_type": "execute_result",
          "data": {
            "text/plain": [
              "([12, 2, 2471, 786, 20, 1, 4, 12, 14, 8, 861, 164, 3],\n",
              " [1, 1, 1, 1, 1, 1, 1, 1, 1, 1, 1, 1, 1])"
            ]
          },
          "metadata": {},
          "execution_count": 17
        }
      ],
      "source": [
        "X_train[0], y_train[0]"
      ]
    },
    {
      "cell_type": "code",
      "source": [
        "X_train_padded = pad_sequences(X_train, maxlen=MAX_LENGTH, padding='post')\n",
        "X_test_padded = pad_sequences(X_test, maxlen=MAX_LENGTH, padding='post')\n",
        "y_train_padded = pad_sequences(y_train, maxlen=MAX_LENGTH, padding='post')\n",
        "y_test_padded = pad_sequences(y_test, maxlen=MAX_LENGTH, padding='post')\n",
        "\n",
        "print(X_train_padded[0])\n",
        "print(y_train_padded[0])\n",
        "print(X_test_padded[0])\n",
        "print(y_test_padded[0])"
      ],
      "metadata": {
        "colab": {
          "base_uri": "https://localhost:8080/"
        },
        "id": "Jb-BJrQv9f0v",
        "outputId": "14a8ab2e-bcbf-4904-dd07-27f10556def6"
      },
      "execution_count": 19,
      "outputs": [
        {
          "output_type": "stream",
          "name": "stdout",
          "text": [
            "[  12    2 2471  786   20    1    4   12   14    8  861  164    3    0\n",
            "    0    0    0    0    0    0    0    0    0    0    0    0    0    0\n",
            "    0    0    0    0    0    0    0    0    0    0    0    0    0    0\n",
            "    0    0    0    0    0    0    0    0    0    0    0    0    0    0\n",
            "    0    0    0    0]\n",
            "[1 1 1 1 1 1 1 1 1 1 1 1 1 0 0 0 0 0 0 0 0 0 0 0 0 0 0 0 0 0 0 0 0 0 0 0 0\n",
            " 0 0 0 0 0 0 0 0 0 0 0 0 0 0 0 0 0 0 0 0 0 0 0]\n",
            "[  65  184  206  375 1746   94    1    3    0    0    0    0    0    0\n",
            "    0    0    0    0    0    0    0    0    0    0    0    0    0    0\n",
            "    0    0    0    0    0    0    0    0    0    0    0    0    0    0\n",
            "    0    0    0    0    0    0    0    0    0    0    0    0    0    0\n",
            "    0    0    0    0]\n",
            "[1 1 1 1 1 1 1 1 0 0 0 0 0 0 0 0 0 0 0 0 0 0 0 0 0 0 0 0 0 0 0 0 0 0 0 0 0\n",
            " 0 0 0 0 0 0 0 0 0 0 0 0 0 0 0 0 0 0 0 0 0 0 0]\n"
          ]
        }
      ]
    },
    {
      "cell_type": "code",
      "execution_count": null,
      "metadata": {
        "id": "fBEYlt0ots5o"
      },
      "outputs": [],
      "source": []
    },
    {
      "cell_type": "markdown",
      "metadata": {
        "id": "Zv9klpOtKRl7"
      },
      "source": [
        "### many-to-many model 이므로 return_sequences=True 로 설정"
      ]
    },
    {
      "cell_type": "code",
      "source": [
        "# target 값이 많을 시, categorical 사용 시 메모리를 많이 잡아 먹으므로\n",
        "# sparse_categorical 을 사용하면 자동적으로 원핫인코딩 해줌\n",
        "\n",
        "# y_train_onehot = to_categorical(y_train_padded, tag_size)\n",
        "# y_test_onehot = to_categorical(y_test_padded, tag_size)"
      ],
      "metadata": {
        "id": "N1IQp_bP-9C2"
      },
      "execution_count": null,
      "outputs": []
    },
    {
      "cell_type": "code",
      "execution_count": null,
      "metadata": {
        "id": "s5NN32KZKRl8"
      },
      "outputs": [],
      "source": [
        "# model = Sequential()\n",
        "# model.add(Embedding(vocab_size, 128))\n",
        "# model.add(Bidirectional(LSTM(256, return_sequences=True)))\n",
        "# model.add(Dense(tag_size, activation='softmax'))\n",
        "\n",
        "# model.compile(loss='categorical_crossentropy', optimizer=Adam(0.001), metrics=['accuracy'])\n",
        "\n",
        "# model.summary()"
      ]
    },
    {
      "cell_type": "code",
      "source": [
        "model = Sequential()\n",
        "model.add(Embedding(vocab_size, 128))\n",
        "model.add(Bidirectional(LSTM(256, return_sequences=True)))\n",
        "model.add(Dense(tag_size, activation='softmax'))\n",
        "\n",
        "model.compile(loss='sparse_categorical_crossentropy', optimizer=Adam(0.001), metrics=['accuracy'])\n",
        "\n",
        "model.summary()"
      ],
      "metadata": {
        "colab": {
          "base_uri": "https://localhost:8080/"
        },
        "id": "LzYqju3gASeJ",
        "outputId": "78f9d8b2-f383-418f-8bb1-056879867040"
      },
      "execution_count": 21,
      "outputs": [
        {
          "output_type": "stream",
          "name": "stdout",
          "text": [
            "Model: \"sequential_1\"\n",
            "_________________________________________________________________\n",
            " Layer (type)                Output Shape              Param #   \n",
            "=================================================================\n",
            " embedding_1 (Embedding)     (None, None, 128)         512128    \n",
            "                                                                 \n",
            " bidirectional_1 (Bidirecti  (None, None, 512)         788480    \n",
            " onal)                                                           \n",
            "                                                                 \n",
            " dense_1 (Dense)             (None, None, 10)          5130      \n",
            "                                                                 \n",
            "=================================================================\n",
            "Total params: 1305738 (4.98 MB)\n",
            "Trainable params: 1305738 (4.98 MB)\n",
            "Non-trainable params: 0 (0.00 Byte)\n",
            "_________________________________________________________________\n"
          ]
        }
      ]
    },
    {
      "cell_type": "code",
      "execution_count": 22,
      "metadata": {
        "colab": {
          "base_uri": "https://localhost:8080/"
        },
        "id": "BcuHXafvKRmC",
        "outputId": "52cfc036-7b2e-431c-86df-1d0c797c5108",
        "scrolled": true
      },
      "outputs": [
        {
          "output_type": "stream",
          "name": "stdout",
          "text": [
            "Epoch 1/10\n",
            "88/88 [==============================] - 26s 198ms/step - loss: 0.3648 - accuracy: 0.9248 - val_loss: 0.1982 - val_accuracy: 0.9582\n",
            "Epoch 2/10\n",
            "88/88 [==============================] - 13s 150ms/step - loss: 0.1654 - accuracy: 0.9597 - val_loss: 0.1333 - val_accuracy: 0.9604\n",
            "Epoch 3/10\n",
            "88/88 [==============================] - 7s 81ms/step - loss: 0.1084 - accuracy: 0.9675 - val_loss: 0.1025 - val_accuracy: 0.9702\n",
            "Epoch 4/10\n",
            "88/88 [==============================] - 5s 52ms/step - loss: 0.0843 - accuracy: 0.9748 - val_loss: 0.0849 - val_accuracy: 0.9751\n",
            "Epoch 5/10\n",
            "88/88 [==============================] - 5s 54ms/step - loss: 0.0661 - accuracy: 0.9805 - val_loss: 0.0715 - val_accuracy: 0.9796\n",
            "Epoch 6/10\n",
            "88/88 [==============================] - 4s 47ms/step - loss: 0.0501 - accuracy: 0.9855 - val_loss: 0.0573 - val_accuracy: 0.9836\n",
            "Epoch 7/10\n",
            "88/88 [==============================] - 4s 44ms/step - loss: 0.0390 - accuracy: 0.9889 - val_loss: 0.0507 - val_accuracy: 0.9860\n",
            "Epoch 8/10\n",
            "88/88 [==============================] - 3s 31ms/step - loss: 0.0324 - accuracy: 0.9907 - val_loss: 0.0480 - val_accuracy: 0.9866\n",
            "Epoch 9/10\n",
            "88/88 [==============================] - 3s 40ms/step - loss: 0.0285 - accuracy: 0.9916 - val_loss: 0.0463 - val_accuracy: 0.9875\n",
            "Epoch 10/10\n",
            "88/88 [==============================] - 3s 26ms/step - loss: 0.0252 - accuracy: 0.9926 - val_loss: 0.0464 - val_accuracy: 0.9878\n"
          ]
        },
        {
          "output_type": "execute_result",
          "data": {
            "text/plain": [
              "<keras.src.callbacks.History at 0x7b31dc62c9a0>"
            ]
          },
          "metadata": {},
          "execution_count": 22
        }
      ],
      "source": [
        "model.fit(X_train_padded, y_train_padded , batch_size=128, epochs=10,\n",
        "              validation_data=(X_test_padded, y_test_padded))"
      ]
    },
    {
      "cell_type": "code",
      "source": [
        "score = model.evaluate(X_test_padded, y_test_padded)\n",
        "print(f\"loss = {score[0]}, accuracy = {score[1]}\")"
      ],
      "metadata": {
        "colab": {
          "base_uri": "https://localhost:8080/"
        },
        "id": "TLgBVT4tBkOL",
        "outputId": "a258aa78-c77a-43e0-c624-dd8682774506"
      },
      "execution_count": 34,
      "outputs": [
        {
          "output_type": "stream",
          "name": "stdout",
          "text": [
            "88/88 [==============================] - 1s 8ms/step - loss: 0.0464 - accuracy: 0.9878\n",
            "loss = 0.04640687257051468, accuracy = 0.9877833127975464\n"
          ]
        }
      ]
    },
    {
      "cell_type": "markdown",
      "metadata": {
        "id": "MJB__Gmfxb9p"
      },
      "source": [
        "### test"
      ]
    },
    {
      "cell_type": "code",
      "execution_count": 35,
      "metadata": {
        "id": "eanZgTRSKRmH"
      },
      "outputs": [],
      "source": [
        "test_sample = [\"EU gave German call to take British people\"]"
      ]
    },
    {
      "cell_type": "code",
      "execution_count": 36,
      "metadata": {
        "colab": {
          "base_uri": "https://localhost:8080/"
        },
        "id": "jRIlS_COKRmJ",
        "outputId": "d27b96c0-33ac-4012-d474-b2804274b1ac"
      },
      "outputs": [
        {
          "output_type": "execute_result",
          "data": {
            "text/plain": [
              "array([[1123,  394,  192,  746,    7,  262,  215,   92,    0,    0,    0,\n",
              "           0,    0,    0,    0,    0,    0,    0,    0,    0,    0,    0,\n",
              "           0,    0,    0,    0,    0,    0,    0,    0,    0,    0,    0,\n",
              "           0,    0,    0,    0,    0,    0,    0,    0,    0,    0,    0,\n",
              "           0,    0,    0,    0,    0,    0,    0,    0,    0,    0,    0,\n",
              "           0,    0,    0,    0,    0]], dtype=int32)"
            ]
          },
          "metadata": {},
          "execution_count": 36
        }
      ],
      "source": [
        "test_sample_tokenized = entity_tokenizer.texts_to_sequences(test_sample)\n",
        "test_sample_padded = pad_sequences(test_sample_tokenized, maxlen=MAX_LENGTH, padding='post')\n",
        "test_sample_padded"
      ]
    },
    {
      "cell_type": "code",
      "source": [
        "tag_tokenizer.index_word"
      ],
      "metadata": {
        "colab": {
          "base_uri": "https://localhost:8080/"
        },
        "id": "HSXqeNkjDOdk",
        "outputId": "854893b8-7af0-4e1f-8936-98e485a2c1b7"
      },
      "execution_count": 39,
      "outputs": [
        {
          "output_type": "execute_result",
          "data": {
            "text/plain": [
              "{1: 'o',\n",
              " 2: 'b-loc',\n",
              " 3: 'b-per',\n",
              " 4: 'b-org',\n",
              " 5: 'i-per',\n",
              " 6: 'i-org',\n",
              " 7: 'b-misc',\n",
              " 8: 'i-loc',\n",
              " 9: 'i-misc'}"
            ]
          },
          "metadata": {},
          "execution_count": 39
        }
      ]
    },
    {
      "cell_type": "code",
      "execution_count": 41,
      "metadata": {
        "colab": {
          "base_uri": "https://localhost:8080/"
        },
        "id": "rJxsVUyXKRmS",
        "outputId": "5a5aecb4-3b0b-48fe-9341-0b1d5a9d999e"
      },
      "outputs": [
        {
          "output_type": "stream",
          "name": "stdout",
          "text": [
            "1/1 [==============================] - 0s 20ms/step\n"
          ]
        },
        {
          "output_type": "execute_result",
          "data": {
            "text/plain": [
              "array([[4, 1, 7, 1, 1, 1, 7, 1, 0, 0, 0, 0, 0, 0, 0, 0, 0, 0, 0, 0, 0, 0,\n",
              "        0, 0, 0, 0, 0, 0, 0, 0, 0, 0, 0, 0, 0, 0, 0, 0, 0, 0, 0, 0, 0, 0,\n",
              "        0, 0, 0, 0, 0, 0, 0, 0, 0, 0, 0, 0, 0, 0, 0, 0]])"
            ]
          },
          "metadata": {},
          "execution_count": 41
        }
      ],
      "source": [
        "y_pred = model.predict(test_sample_padded)\n",
        "y_pred = y_pred.argmax(axis=-1)\n",
        "y_pred"
      ]
    },
    {
      "cell_type": "code",
      "source": [
        "index2word = entity_tokenizer.index_word\n",
        "index2tag = tag_tokenizer.index_word\n",
        "\n",
        "for i in range(len(test_sample_tokenized)):\n",
        "    for word, tag in zip([index2word.get(x, '?') for x in test_sample_tokenized[i]],\n",
        "                         [index2tag.get(y, '?') for y in y_pred[i]]):\n",
        "        print(word, ':', tag)"
      ],
      "metadata": {
        "colab": {
          "base_uri": "https://localhost:8080/"
        },
        "id": "rBi_gH3MDVWb",
        "outputId": "d3ab1469-e626-4255-f553-a288674c39b2"
      },
      "execution_count": 48,
      "outputs": [
        {
          "output_type": "stream",
          "name": "stdout",
          "text": [
            "eu : b-org\n",
            "gave : o\n",
            "german : b-misc\n",
            "call : o\n",
            "to : o\n",
            "take : o\n",
            "british : b-misc\n",
            "people : o\n"
          ]
        }
      ]
    }
  ],
  "metadata": {
    "accelerator": "GPU",
    "colab": {
      "provenance": [],
      "include_colab_link": true
    },
    "kernelspec": {
      "display_name": "Python 3 (ipykernel)",
      "language": "python",
      "name": "python3"
    },
    "language_info": {
      "codemirror_mode": {
        "name": "ipython",
        "version": 3
      },
      "file_extension": ".py",
      "mimetype": "text/x-python",
      "name": "python",
      "nbconvert_exporter": "python",
      "pygments_lexer": "ipython3",
      "version": "3.8.12"
    }
  },
  "nbformat": 4,
  "nbformat_minor": 0
}