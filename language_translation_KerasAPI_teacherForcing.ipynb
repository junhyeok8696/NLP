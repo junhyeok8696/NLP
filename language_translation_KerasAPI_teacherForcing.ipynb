{
  "cells": [
    {
      "cell_type": "markdown",
      "metadata": {
        "id": "view-in-github",
        "colab_type": "text"
      },
      "source": [
        "<a href=\"https://colab.research.google.com/github/junhyeok8696/NLP/blob/main/language_translation_KerasAPI_teacherForcing.ipynb\" target=\"_parent\"><img src=\"https://colab.research.google.com/assets/colab-badge.svg\" alt=\"Open In Colab\"/></a>"
      ]
    },
    {
      "cell_type": "markdown",
      "metadata": {
        "id": "Q15ChKHSG8y4"
      },
      "source": [
        "# seq2seq language translation\n",
        "\n",
        "### Encoder-Decoder model\n",
        "\n",
        "\n",
        "- 영어-한국어 번역"
      ]
    },
    {
      "cell_type": "code",
      "execution_count": 1,
      "metadata": {
        "colab": {
          "base_uri": "https://localhost:8080/"
        },
        "id": "8qdw8FpThxGP",
        "outputId": "f887ca44-75f6-4c37-d033-5384b7027d37"
      },
      "outputs": [
        {
          "output_type": "stream",
          "name": "stdout",
          "text": [
            "Requirement already satisfied: gdown in /usr/local/lib/python3.10/dist-packages (4.6.6)\n",
            "Collecting gdown\n",
            "  Downloading gdown-4.7.1-py3-none-any.whl (15 kB)\n",
            "Requirement already satisfied: filelock in /usr/local/lib/python3.10/dist-packages (from gdown) (3.12.4)\n",
            "Requirement already satisfied: requests[socks] in /usr/local/lib/python3.10/dist-packages (from gdown) (2.31.0)\n",
            "Requirement already satisfied: six in /usr/local/lib/python3.10/dist-packages (from gdown) (1.16.0)\n",
            "Requirement already satisfied: tqdm in /usr/local/lib/python3.10/dist-packages (from gdown) (4.66.1)\n",
            "Requirement already satisfied: beautifulsoup4 in /usr/local/lib/python3.10/dist-packages (from gdown) (4.11.2)\n",
            "Requirement already satisfied: soupsieve>1.2 in /usr/local/lib/python3.10/dist-packages (from beautifulsoup4->gdown) (2.5)\n",
            "Requirement already satisfied: charset-normalizer<4,>=2 in /usr/local/lib/python3.10/dist-packages (from requests[socks]->gdown) (3.3.0)\n",
            "Requirement already satisfied: idna<4,>=2.5 in /usr/local/lib/python3.10/dist-packages (from requests[socks]->gdown) (3.4)\n",
            "Requirement already satisfied: urllib3<3,>=1.21.1 in /usr/local/lib/python3.10/dist-packages (from requests[socks]->gdown) (2.0.7)\n",
            "Requirement already satisfied: certifi>=2017.4.17 in /usr/local/lib/python3.10/dist-packages (from requests[socks]->gdown) (2023.7.22)\n",
            "Requirement already satisfied: PySocks!=1.5.7,>=1.5.6 in /usr/local/lib/python3.10/dist-packages (from requests[socks]->gdown) (1.7.1)\n",
            "Installing collected packages: gdown\n",
            "  Attempting uninstall: gdown\n",
            "    Found existing installation: gdown 4.6.6\n",
            "    Uninstalling gdown-4.6.6:\n",
            "      Successfully uninstalled gdown-4.6.6\n",
            "Successfully installed gdown-4.7.1\n"
          ]
        }
      ],
      "source": [
        "!pip install --upgrade --no-cache-dir gdown"
      ]
    },
    {
      "cell_type": "markdown",
      "metadata": {
        "id": "_kawPBRbh6NO"
      },
      "source": [
        "한글 Glove file download"
      ]
    },
    {
      "cell_type": "code",
      "execution_count": 2,
      "metadata": {
        "colab": {
          "base_uri": "https://localhost:8080/"
        },
        "id": "HC1Ot3voh4-k",
        "outputId": "3e0e09a5-43c3-4038-eb0f-918673ec644b"
      },
      "outputs": [
        {
          "output_type": "stream",
          "name": "stdout",
          "text": [
            "Downloading...\n",
            "From (uriginal): https://drive.google.com/uc?id=1zR1TJm9hjqinSU0OkCcAmaVjfeTgmoOC\n",
            "From (redirected): https://drive.google.com/uc?id=1zR1TJm9hjqinSU0OkCcAmaVjfeTgmoOC&confirm=t&uuid=a5d7a689-4deb-48ee-9ae2-5c6a6a180789\n",
            "To: /content/glove.6B.100d.txt\n",
            "100% 347M/347M [00:03<00:00, 89.7MB/s]\n"
          ]
        }
      ],
      "source": [
        "!gdown 1zR1TJm9hjqinSU0OkCcAmaVjfeTgmoOC"
      ]
    },
    {
      "cell_type": "code",
      "source": [
        "import numpy as np\n",
        "import pandas as pd\n",
        "import matplotlib.pyplot as plt\n",
        "\n",
        "import tensorflow as tf\n",
        "from tensorflow.keras.models import Model\n",
        "from tensorflow.keras.layers import Dense, Embedding, Input, LSTM, Bidirectional\n",
        "\n",
        "from tensorflow.keras.preprocessing.text import Tokenizer\n",
        "from tensorflow.keras.preprocessing.sequence import pad_sequences\n",
        "from tensorflow.keras.utils import to_categorical\n",
        "from tensorflow.keras.optimizers import RMSprop\n",
        "from tensorflow.keras.utils import plot_model"
      ],
      "metadata": {
        "id": "HJ5efQ2kCEd0"
      },
      "execution_count": 3,
      "outputs": []
    },
    {
      "cell_type": "code",
      "execution_count": 4,
      "metadata": {
        "id": "k9fxpcfPG8y9"
      },
      "outputs": [],
      "source": [
        "BATCH_SIZE = 64\n",
        "NUM_SAMPLES = 10000\n",
        "MAX_VOCAB_SIZE = 10000\n",
        "EMBEDDING_DIM = 100\n",
        "LATENT_DIM = 512"
      ]
    },
    {
      "cell_type": "markdown",
      "metadata": {
        "id": "88dOCLrOG8zA"
      },
      "source": [
        "## 입력 data list 작성  \n",
        "\n",
        "### 1. input_texts     : original language 의 input text  \n",
        "\n",
        "\n",
        "### 2. Teacher Forcing 용 input / target data 생성\n",
        "\n",
        "- target_texts_inputs  : 1 만큼 offset 된 target language sentence $\\rightarrow$ `<sos>....`  \n",
        "- target_texts  : target language sentence  $\\rightarrow$ `.....<eos>`\n",
        "\n",
        "\n",
        "\n",
        "- data 는 http://www.manythings.org/anki/  (Tab-delimited Bilingual Sentence Pairs) 에서 download  \n",
        "\n",
        "\n",
        "    - English(input) + `\\t` + The Other Language(target) + `\\t` + Attribution(기여자) 형식으로 구성\n",
        "        ex)\n",
        "        - Hi.\t안녕.\tCC-BY 2.0 (France) Attribution: tatoeba.org #538123 (CM) & #8355888 (Eunhee).\n",
        "        - I like horses.\t나는 말을 좋아해.\tCC-BY 2.0 (France) Attribution: tatoeba.org #1331062 (Kirschen112) & #8365125 (Eunhee)\n",
        "        - We had fun with Tom.\t우리는 톰과 즐거운 시간을 가졌다.\tCC-BY 2.0 (France) Attribution: tatoeba.org #6845055 (CK) & #6845295 (dalgarak)\n",
        "\n",
        "        \n",
        "   "
      ]
    },
    {
      "cell_type": "code",
      "execution_count": 5,
      "metadata": {
        "id": "GajIBj3cG8zA",
        "colab": {
          "base_uri": "https://localhost:8080/"
        },
        "outputId": "0510162f-fde8-40d5-add1-d14bb76e987b"
      },
      "outputs": [
        {
          "output_type": "stream",
          "name": "stdout",
          "text": [
            "Downloading data from https://raw.githubusercontent.com/junhyeok8696/NLP/main/kor.txt\n",
            "484226/484226 [==============================] - 0s 0us/step\n"
          ]
        }
      ],
      "source": [
        "file_path = tf.keras.utils.get_file(\"kor.txt\",\n",
        "             \"https://raw.githubusercontent.com/junhyeok8696/NLP/main/kor.txt\")"
      ]
    },
    {
      "cell_type": "markdown",
      "metadata": {
        "id": "HlozoHc8GI8C"
      },
      "source": [
        "- teacher forcing 용 input, target 작성"
      ]
    },
    {
      "cell_type": "code",
      "execution_count": 6,
      "metadata": {
        "colab": {
          "base_uri": "https://localhost:8080/"
        },
        "id": "FyP9H8NeG8zD",
        "outputId": "912c6a5a-8f4d-425b-d478-933086115287"
      },
      "outputs": [
        {
          "output_type": "execute_result",
          "data": {
            "text/plain": [
              "(3318, 3318, 3318)"
            ]
          },
          "metadata": {},
          "execution_count": 6
        }
      ],
      "source": [
        "# load in the data\n",
        "eng_texts = []\n",
        "kor_inputs = []\n",
        "kor_targets = []\n",
        "\n",
        "# load data\n",
        "for line in open(file_path, 'r', encoding='utf-8'):\n",
        "\n",
        "    if '\\t' not in line:     # \\t 가 없는 line 은 skip\n",
        "        continue\n",
        "\n",
        "    # input 과 target translation 구분\n",
        "    english, korean, attribution = line.split('\\t')\n",
        "\n",
        "    # target input 과 output 을 teacher forcing 입력 구성\n",
        "    input = '<sos> ' + korean\n",
        "    target = korean + ' <eos>'\n",
        "\n",
        "    eng_texts.append(english)     # 영어 문장\n",
        "\n",
        "    kor_inputs.append(input)\n",
        "    kor_targets.append(target)\n",
        "\n",
        "len(eng_texts), len(kor_inputs), len(kor_targets)"
      ]
    },
    {
      "cell_type": "code",
      "execution_count": 7,
      "metadata": {
        "colab": {
          "base_uri": "https://localhost:8080/"
        },
        "id": "8jgPJsAcG8zI",
        "outputId": "dd608483-77e1-46d1-cd54-acd228ac098f"
      },
      "outputs": [
        {
          "output_type": "stream",
          "name": "stdout",
          "text": [
            "English : [\"Don't lie anymore, OK?\", \"Don't you laugh at me.\", 'French is fascinating.', 'French is interesting.', 'French is very useful.', 'He looked quite tired.', 'He was about to speak.', 'He was born in Africa.', 'I called Tom for help.', \"I didn't come by taxi.\"]\n",
            "\n",
            "Teacher Forcing Input : ['<sos> 거짓말 하지 마세요, 알았죠?', '<sos> 날 비웃지마.', '<sos> 프랑스어는 매력적이야.', '<sos> 프랑스어는 흥미로워.', '<sos> 프랑스어는 아주 유용해.', '<sos> 그사람은 좀 지쳐보였어.', '<sos> 그사람이 말하려고 했어.', '<sos> 그는 아프리카에서 태어났다.', '<sos> 나는 톰에게 도움을 요청했다.', '<sos> 택시로 안 왔어.']\n",
            "\n",
            "Teacher Forcing Target ['거짓말 하지 마세요, 알았죠? <eos>', '날 비웃지마. <eos>', '프랑스어는 매력적이야. <eos>', '프랑스어는 흥미로워. <eos>', '프랑스어는 아주 유용해. <eos>', '그사람은 좀 지쳐보였어. <eos>', '그사람이 말하려고 했어. <eos>', '그는 아프리카에서 태어났다. <eos>', '나는 톰에게 도움을 요청했다. <eos>', '택시로 안 왔어. <eos>']\n"
          ]
        }
      ],
      "source": [
        "print(\"English :\", eng_texts[1100:1110])\n",
        "print(\"\\nTeacher Forcing Input :\", kor_inputs[1100:1110])\n",
        "print(\"\\nTeacher Forcing Target\", kor_targets[1100:1110])"
      ]
    },
    {
      "cell_type": "markdown",
      "metadata": {
        "id": "9xJ-KzkAG8zK"
      },
      "source": [
        "## Tokenization\n",
        "\n",
        "- language 가 2 개 이므로 언어별로 서로 다른 tokenizer 생성. 따라서, 2 개의 word_index 구성\n",
        "\n",
        "### 영어 input text 의 tokenizer"
      ]
    },
    {
      "cell_type": "code",
      "execution_count": 8,
      "metadata": {
        "colab": {
          "base_uri": "https://localhost:8080/"
        },
        "id": "xnBwFkjtG8zO",
        "outputId": "2fbf99e7-8bab-4de9-9569-6d3e179a8d31"
      },
      "outputs": [
        {
          "output_type": "stream",
          "name": "stdout",
          "text": [
            "[126, 12, 6, 94, 153]\n",
            "Yesterday was a good day.\n"
          ]
        },
        {
          "output_type": "execute_result",
          "data": {
            "text/plain": [
              "['yesterday', 'was', 'a', 'good', 'day']"
            ]
          },
          "metadata": {},
          "execution_count": 8
        }
      ],
      "source": [
        "tokenizer_eng = Tokenizer(num_words=MAX_VOCAB_SIZE)\n",
        "tokenizer_eng.fit_on_texts(eng_texts)\n",
        "\n",
        "eng_sequences = tokenizer_eng.texts_to_sequences(eng_texts)\n",
        "print(eng_sequences[1500])\n",
        "print(eng_texts[1500])\n",
        "\n",
        "[tokenizer_eng.index_word[idx] for idx in eng_sequences[1500]]"
      ]
    },
    {
      "cell_type": "code",
      "execution_count": 9,
      "metadata": {
        "colab": {
          "base_uri": "https://localhost:8080/"
        },
        "id": "IeySmpW7G8zS",
        "outputId": "2ab98da8-641a-4dcb-d844-70ce4217c7cb"
      },
      "outputs": [
        {
          "output_type": "stream",
          "name": "stdout",
          "text": [
            "unique input token 수 : 2395\n",
            "Input Text 의 단어 수 : 2396\n",
            "Input Text 의 최대 길이 : 101\n"
          ]
        }
      ],
      "source": [
        "word2idx_eng = tokenizer_eng.word_index\n",
        "print(f'unique input token 수 : {len(word2idx_eng)}')\n",
        "\n",
        "num_words_eng = min(MAX_VOCAB_SIZE, len(word2idx_eng) + 1)\n",
        "print(\"Input Text 의 단어 수 :\", num_words_eng)\n",
        "\n",
        "max_len_eng = max(len(s) for s in eng_sequences)\n",
        "print(\"Input Text 의 최대 길이 :\", max_len_eng)"
      ]
    },
    {
      "cell_type": "markdown",
      "metadata": {
        "id": "UnAyAZK6G8zU"
      },
      "source": [
        "### 한국어 Input Text"
      ]
    },
    {
      "cell_type": "markdown",
      "metadata": {
        "id": "RvBj6QEPG8zX"
      },
      "source": [
        "### Translation language 의 tokenizer\n",
        "- 주의 사항 : $<sos>, <eos>$때문에 special character 를 filtering 하면 안됨"
      ]
    },
    {
      "cell_type": "code",
      "execution_count": 10,
      "metadata": {
        "colab": {
          "base_uri": "https://localhost:8080/"
        },
        "id": "7Qqal6P9G8zX",
        "outputId": "132db48d-1bdf-4052-91e3-6d18dedaa223"
      },
      "outputs": [
        {
          "output_type": "stream",
          "name": "stdout",
          "text": [
            "[1, 1164, 87, 2706]\n",
            "[1164, 87, 2706, 2]\n",
            "['<sos>', '어제는', '좋은', '날이었다.']\n",
            "['어제는', '좋은', '날이었다.', '<eos>']\n"
          ]
        }
      ],
      "source": [
        "tokenizer_kor = Tokenizer(num_words=MAX_VOCAB_SIZE,  filters=\"\")\n",
        "tokenizer_kor.fit_on_texts(kor_inputs +  kor_targets)\n",
        "\n",
        "kor_input_sequences  \\\n",
        "    = tokenizer_kor.texts_to_sequences(kor_inputs)\n",
        "kor_target_sequences \\\n",
        "    = tokenizer_kor.texts_to_sequences(kor_targets)\n",
        "\n",
        "print(kor_input_sequences[1500])\n",
        "print(kor_target_sequences [1500])\n",
        "\n",
        "print([tokenizer_kor.index_word[idx] for idx in kor_input_sequences[1500]])\n",
        "print([tokenizer_kor.index_word[idx] for idx in kor_target_sequences[1500]])"
      ]
    },
    {
      "cell_type": "code",
      "execution_count": 11,
      "metadata": {
        "colab": {
          "base_uri": "https://localhost:8080/"
        },
        "id": "QUXO5Ny7G8zc",
        "outputId": "ac24b2cf-a251-40d1-ec87-b17aaed833fc"
      },
      "outputs": [
        {
          "output_type": "stream",
          "name": "stdout",
          "text": [
            "unique output tokens : 5324\n",
            "Target 언어의 단어 수 : 5325\n",
            "Target 언어의 최대 길이 : 90\n"
          ]
        }
      ],
      "source": [
        "word2idx_kor = tokenizer_kor.word_index\n",
        "print(f'unique output tokens : {len(word2idx_kor)}')\n",
        "\n",
        "num_words_kor = len(word2idx_kor) +1\n",
        "print(\"Target 언어의 단어 수 :\", num_words_kor)\n",
        "\n",
        "max_len_kor = max(len(s) for s in  kor_target_sequences)\n",
        "print(\"Target 언어의 최대 길이 :\", max_len_kor )"
      ]
    },
    {
      "cell_type": "markdown",
      "metadata": {
        "id": "XujZjSHZG8zh"
      },
      "source": [
        "## sequence padding\n",
        "\n",
        "\n",
        "### 주의 사항\n",
        "- encoder 는 thought vector 생성 목적이므로 `pre`(default) 로 padding\n",
        "\n",
        "\n",
        "- decoder 는 teacher forcing 을 해야하므로 `post` 로 padding"
      ]
    },
    {
      "cell_type": "code",
      "execution_count": 12,
      "metadata": {
        "colab": {
          "base_uri": "https://localhost:8080/"
        },
        "id": "6xE80jITG8zh",
        "outputId": "4808b091-4918-4b67-f03e-7894460475bd",
        "scrolled": false
      },
      "outputs": [
        {
          "output_type": "stream",
          "name": "stdout",
          "text": [
            "encoder input shape : (3318, 101)\n",
            "encoder_inputs[0] :  [  0   0   0   0   0   0   0   0   0   0   0   0   0   0   0   0   0   0\n",
            "   0   0   0   0   0   0   0   0   0   0   0   0   0   0   0   0   0   0\n",
            "   0   0   0   0   0   0   0   0   0   0   0   0   0   0   0   0   0   0\n",
            "   0   0   0   0   0   0   0   0   0   0   0   0   0   0   0   0   0   0\n",
            "   0   0   0   0   0   0   0   0   0   0   0   0   0   0   0   0   0   0\n",
            "   0   0   0   0   0   0 126  12   6  94 153]\n",
            "\n",
            "decoder input shape : (3318, 90)\n",
            "decoder_inputs[0] :  [   1 1164   87 2706    0    0    0    0    0    0    0    0    0    0\n",
            "    0    0    0    0    0    0    0    0    0    0    0    0    0    0\n",
            "    0    0    0    0    0    0    0    0    0    0    0    0    0    0\n",
            "    0    0    0    0    0    0    0    0    0    0    0    0    0    0\n",
            "    0    0    0    0    0    0    0    0    0    0    0    0    0    0\n",
            "    0    0    0    0    0    0    0    0    0    0    0    0    0    0\n",
            "    0    0    0    0    0    0]\n",
            "\n",
            "encoder target shape : (3318, 90)\n",
            "encoder_targets[0] :  [1164   87 2706    2    0    0    0    0    0    0    0    0    0    0\n",
            "    0    0    0    0    0    0    0    0    0    0    0    0    0    0\n",
            "    0    0    0    0    0    0    0    0    0    0    0    0    0    0\n",
            "    0    0    0    0    0    0    0    0    0    0    0    0    0    0\n",
            "    0    0    0    0    0    0    0    0    0    0    0    0    0    0\n",
            "    0    0    0    0    0    0    0    0    0    0    0    0    0    0\n",
            "    0    0    0    0    0    0]\n"
          ]
        }
      ],
      "source": [
        "encoder_inputs = pad_sequences(eng_sequences, maxlen=max_len_eng)\n",
        "print(\"encoder input shape :\", encoder_inputs.shape)\n",
        "print(\"encoder_inputs[0] : \", encoder_inputs[1500])\n",
        "\n",
        "decoder_inputs = pad_sequences(kor_input_sequences, maxlen=max_len_kor, padding=\"post\")\n",
        "print(\"\\ndecoder input shape :\", decoder_inputs.shape)\n",
        "print(\"decoder_inputs[0] : \", decoder_inputs[1500])\n",
        "\n",
        "decoder_targets = pad_sequences(kor_target_sequences, maxlen=max_len_kor, padding=\"post\")\n",
        "print(\"\\nencoder target shape :\", decoder_targets.shape)\n",
        "print(\"encoder_targets[0] : \", decoder_targets[1500])"
      ]
    },
    {
      "cell_type": "markdown",
      "metadata": {
        "id": "TWIdoqQGG8zk"
      },
      "source": [
        "## pretrained word embedding 값을 transfer learning\n",
        "\n",
        "- Embedding layer 의 weight 를 pre-trained model 로 초기화  \n",
        "\n",
        "\n",
        "- glove.6B 의 EMBEDDING_DIM version 사용  \n",
        "    - space 로 구분된 text file\n",
        "    - 첫번째는 word 이고 두번째 이후는 weight vector 값이다\n",
        "\n",
        "\n",
        "- word index 가 1 부터 시작하므로 0 padding 감안하여 num_words 는 len(word2idx)+1, 혹은 MAX_VOCAB_SIZE 중 작은 것 선택  \n",
        "\n",
        "\n",
        "- embedding_dict dictionary : key - word, value - embedding_vector"
      ]
    },
    {
      "cell_type": "code",
      "execution_count": 13,
      "metadata": {
        "id": "9_uGq7s8G8zq"
      },
      "outputs": [],
      "source": [
        "def make_embedding(num_words, embedding_dim, tokenizer, max_vocab_size):\n",
        "\n",
        "    embeddings_dict = {}\n",
        "    output = './glove.6B.100d.txt'\n",
        "\n",
        "    with open(output, encoding=\"utf8\") as f:\n",
        "        for i, line in enumerate(f):\n",
        "            values = line.split()            # 각 줄을 읽어와서 word_vector에 저장\n",
        "            word = values[0]                 # 첫번째 값은 word\n",
        "            # 두번째 element 부터 마지막까지 100 개는 해당 단어의 임베딩 벡터의  값\n",
        "            coefs = np.asarray(values[1:], dtype='float32')\n",
        "            embeddings_dict[word] = coefs\n",
        "\n",
        "    embedding_matrix = np.zeros((num_words, embedding_dim))    # zero 로 초기화\n",
        "\n",
        "    print(\"word 갯수 =\", num_words)\n",
        "    print(embedding_matrix.shape)\n",
        "\n",
        "    for word, i in tokenizer.word_index.items():\n",
        "        if i < max_vocab_size:\n",
        "            embedding_vector = embeddings_dict.get(word)\n",
        "            if embedding_vector is not None:         # 해당 word 가 없으면 all zero 로 남겨둠\n",
        "                embedding_matrix[i] = embedding_vector\n",
        "\n",
        "    return embedding_matrix"
      ]
    },
    {
      "cell_type": "code",
      "execution_count": 14,
      "metadata": {
        "id": "eHnRPkgFG8zv",
        "colab": {
          "base_uri": "https://localhost:8080/"
        },
        "outputId": "41638314-09ac-4dea-ab1b-29cfc97c7048"
      },
      "outputs": [
        {
          "output_type": "execute_result",
          "data": {
            "text/plain": [
              "5325"
            ]
          },
          "metadata": {},
          "execution_count": 14
        }
      ],
      "source": [
        "num_words = min(MAX_VOCAB_SIZE, len(word2idx_kor) + 1)\n",
        "num_words"
      ]
    },
    {
      "cell_type": "markdown",
      "metadata": {
        "id": "VjrgS3RWG8zy"
      },
      "source": [
        "### embedding layer 작성\n",
        "\n",
        "- encoder 와 decoder 의 Embedding layer 에 pre-trained embedding weight 를 초기값으로 load"
      ]
    },
    {
      "cell_type": "code",
      "execution_count": 15,
      "metadata": {
        "colab": {
          "base_uri": "https://localhost:8080/"
        },
        "id": "Lu4ntZP8G8zy",
        "outputId": "913c35f5-6e68-499e-da58-c2b3cf44be2c"
      },
      "outputs": [
        {
          "output_type": "stream",
          "name": "stdout",
          "text": [
            "word 갯수 = 2396\n",
            "(2396, 100)\n"
          ]
        }
      ],
      "source": [
        "# create embedding layer\n",
        "embedding_matrix = make_embedding(num_words_eng, EMBEDDING_DIM,\n",
        "                                  tokenizer_eng, MAX_VOCAB_SIZE)\n",
        "embedding_layer = Embedding(num_words_eng, EMBEDDING_DIM,\n",
        "                            weights=[embedding_matrix], trainable=True)"
      ]
    },
    {
      "cell_type": "markdown",
      "metadata": {
        "id": "0lTBcpJ7G8z2"
      },
      "source": [
        "## Build model\n",
        "\n",
        "- encoder 와 decoder 의 embedding, lstm 및 dense layer 를 training 할 목적의 model 작성  \n",
        "\n",
        "- encoder 는 decoder 에 states [h, c] 만 전달\n",
        "\n",
        "- prediction 을 위한 model 은 training model 에서 만들어진 layer 들의 weight 를 이용하여 별도 작성  "
      ]
    },
    {
      "cell_type": "markdown",
      "metadata": {
        "id": "uahjsXKTG8z2"
      },
      "source": [
        "## Encoder model 작성  \n",
        "\n",
        "- Training과 Inference State 에서 모두 사용"
      ]
    },
    {
      "cell_type": "code",
      "execution_count": 16,
      "metadata": {
        "colab": {
          "base_uri": "https://localhost:8080/"
        },
        "id": "p_q7v3baG8z3",
        "outputId": "a7f05e89-2af2-439d-b517-7aa10f1ec18e"
      },
      "outputs": [
        {
          "output_type": "stream",
          "name": "stdout",
          "text": [
            "Model: \"model\"\n",
            "_________________________________________________________________\n",
            " Layer (type)                Output Shape              Param #   \n",
            "=================================================================\n",
            " Encoder_Input (InputLayer)  [(None, 101)]             0         \n",
            "                                                                 \n",
            " embedding (Embedding)       (None, 101, 100)          239600    \n",
            "                                                                 \n",
            " lstm (LSTM)                 [(None, 512),             1255424   \n",
            "                              (None, 512),                       \n",
            "                              (None, 512)]                       \n",
            "                                                                 \n",
            "=================================================================\n",
            "Total params: 1495024 (5.70 MB)\n",
            "Trainable params: 1495024 (5.70 MB)\n",
            "Non-trainable params: 0 (0.00 Byte)\n",
            "_________________________________________________________________\n"
          ]
        }
      ],
      "source": [
        "# Encoder\n",
        "encoder_inputs_ = Input(shape=(max_len_eng, ), name='Encoder_Input')\n",
        "\n",
        "# pre-trained embedding layer 사용\n",
        "x = embedding_layer(encoder_inputs_)\n",
        "encoder_outputs, h, c = LSTM(LATENT_DIM, return_state=True)(x)\n",
        "\n",
        "# encoder 는 hidden state and cell state 만 decoder 로 전달 --> thought vector\n",
        "encoder_states = [h, c]\n",
        "\n",
        "encoder_model = Model(encoder_inputs_, encoder_states)\n",
        "encoder_model.summary()"
      ]
    },
    {
      "cell_type": "markdown",
      "metadata": {
        "id": "r4tlTKf0G8z5"
      },
      "source": [
        "## Decoder model for Teacher Forcing\n",
        "\n",
        "- Training stage 에서 만 사용"
      ]
    },
    {
      "cell_type": "code",
      "execution_count": 17,
      "metadata": {
        "colab": {
          "base_uri": "https://localhost:8080/"
        },
        "id": "83RPsXl-G8z5",
        "outputId": "dce244bb-3114-481f-816d-8d60fdad4d1a"
      },
      "outputs": [
        {
          "output_type": "stream",
          "name": "stdout",
          "text": [
            "Model: \"model_1\"\n",
            "__________________________________________________________________________________________________\n",
            " Layer (type)                Output Shape                 Param #   Connected to                  \n",
            "==================================================================================================\n",
            " Encoder_Input (InputLayer)  [(None, 101)]                0         []                            \n",
            "                                                                                                  \n",
            " Decoder_Input (InputLayer)  [(None, 90)]                 0         []                            \n",
            "                                                                                                  \n",
            " embedding (Embedding)       (None, 101, 100)             239600    ['Encoder_Input[0][0]']       \n",
            "                                                                                                  \n",
            " embedding_1 (Embedding)     (None, 90, 100)              532500    ['Decoder_Input[0][0]']       \n",
            "                                                                                                  \n",
            " lstm (LSTM)                 [(None, 512),                1255424   ['embedding[0][0]']           \n",
            "                              (None, 512),                                                        \n",
            "                              (None, 512)]                                                        \n",
            "                                                                                                  \n",
            " lstm_1 (LSTM)               [(None, 90, 512),            1255424   ['embedding_1[0][0]',         \n",
            "                              (None, 512),                           'lstm[0][1]',                \n",
            "                              (None, 512)]                           'lstm[0][2]']                \n",
            "                                                                                                  \n",
            " Decoder_Output (Dense)      (None, 90, 5325)             2731725   ['lstm_1[0][0]']              \n",
            "                                                                                                  \n",
            "==================================================================================================\n",
            "Total params: 6014673 (22.94 MB)\n",
            "Trainable params: 6014673 (22.94 MB)\n",
            "Non-trainable params: 0 (0.00 Byte)\n",
            "__________________________________________________________________________________________________\n"
          ]
        }
      ],
      "source": [
        "# decoder 는 [h, c] 를 initial state 로 사용\n",
        "decoder_inputs_ = Input(shape=(max_len_kor,), name=\"Decoder_Input\")\n",
        "\n",
        "# decoder word embedding 은 pre-trained vector 를 사용 않음\n",
        "decoder_embedding = Embedding(num_words_kor, EMBEDDING_DIM)\n",
        "decoder_inputs_x = decoder_embedding(decoder_inputs_)\n",
        "\n",
        "# decoder for teacher-forcing\n",
        "decoder_lstm = LSTM(LATENT_DIM, return_sequences=True, return_state=True)\n",
        "# initial state = encoder [h, c]\n",
        "decoder_outputs, _, _ = decoder_lstm(decoder_inputs_x,\n",
        "                                     initial_state=encoder_states)\n",
        "# final layer\n",
        "decoder_dense = Dense(num_words_kor, activation='softmax', name='Decoder_Output')\n",
        "decoder_outputs = decoder_dense(decoder_outputs)\n",
        "\n",
        "# Teacher-forcing 모델 생성\n",
        "model_teacher_forcing = Model([encoder_inputs_, decoder_inputs_],  decoder_outputs)\n",
        "\n",
        "#model compile and train\n",
        "model_teacher_forcing.compile(loss='sparse_categorical_crossentropy',\n",
        "                              optimizer=RMSprop(0.001), metrics=['accuracy'])\n",
        "\n",
        "model_teacher_forcing.summary()"
      ]
    },
    {
      "cell_type": "markdown",
      "metadata": {
        "id": "73rTNuLZIaiy"
      },
      "source": [
        "- teacher-forcing model 시각화"
      ]
    },
    {
      "cell_type": "code",
      "execution_count": 18,
      "metadata": {
        "colab": {
          "base_uri": "https://localhost:8080/",
          "height": 471
        },
        "id": "nh-geR7BG8z7",
        "outputId": "859670cb-3b60-4ead-8877-0354d6d11811"
      },
      "outputs": [
        {
          "output_type": "execute_result",
          "data": {
            "image/png": "[encoded data removed]",
            "text/plain": [
              "<IPython.core.display.Image object>"
            ]
          },
          "metadata": {},
          "execution_count": 18
        }
      ],
      "source": [
        "plot_model(model_teacher_forcing, show_shapes=True)"
      ]
    },
    {
      "cell_type": "markdown",
      "metadata": {
        "id": "5wbWW3D9IgZi"
      },
      "source": [
        "- teacher-forcing model train"
      ]
    },
    {
      "cell_type": "code",
      "execution_count": 19,
      "metadata": {
        "colab": {
          "base_uri": "https://localhost:8080/"
        },
        "id": "NbWbW3NsG8z-",
        "outputId": "a4f7a440-eef4-4a9a-8bb5-6b4d44dfa6b1",
        "scrolled": true
      },
      "outputs": [
        {
          "output_type": "stream",
          "name": "stdout",
          "text": [
            "Epoch 1/30\n",
            "42/42 [==============================] - 15s 175ms/step - loss: 1.1457 - accuracy: 0.9268 - val_loss: 0.7201 - val_accuracy: 0.9195\n",
            "Epoch 2/30\n",
            "42/42 [==============================] - 5s 120ms/step - loss: 0.3584 - accuracy: 0.9522 - val_loss: 0.6685 - val_accuracy: 0.9205\n",
            "Epoch 3/30\n",
            "42/42 [==============================] - 4s 93ms/step - loss: 0.3467 - accuracy: 0.9520 - val_loss: 0.6526 - val_accuracy: 0.9207\n",
            "Epoch 4/30\n",
            "42/42 [==============================] - 4s 86ms/step - loss: 0.3404 - accuracy: 0.9523 - val_loss: 0.6935 - val_accuracy: 0.9197\n",
            "Epoch 5/30\n",
            "42/42 [==============================] - 4s 95ms/step - loss: 0.3347 - accuracy: 0.9525 - val_loss: 0.6790 - val_accuracy: 0.9199\n",
            "Epoch 6/30\n",
            "42/42 [==============================] - 4s 92ms/step - loss: 0.3315 - accuracy: 0.9528 - val_loss: 0.6475 - val_accuracy: 0.9210\n",
            "Epoch 7/30\n",
            "42/42 [==============================] - 4s 90ms/step - loss: 0.3284 - accuracy: 0.9531 - val_loss: 0.6468 - val_accuracy: 0.9212\n",
            "Epoch 8/30\n",
            "42/42 [==============================] - 4s 92ms/step - loss: 0.3253 - accuracy: 0.9533 - val_loss: 0.6379 - val_accuracy: 0.9212\n",
            "Epoch 9/30\n",
            "42/42 [==============================] - 3s 83ms/step - loss: 0.6041 - accuracy: 0.9310 - val_loss: 0.6584 - val_accuracy: 0.9208\n",
            "Epoch 10/30\n",
            "42/42 [==============================] - 4s 88ms/step - loss: 0.3202 - accuracy: 0.9542 - val_loss: 0.6331 - val_accuracy: 0.9226\n",
            "Epoch 11/30\n",
            "42/42 [==============================] - 4s 88ms/step - loss: 0.3161 - accuracy: 0.9552 - val_loss: 0.6302 - val_accuracy: 0.9222\n",
            "Epoch 12/30\n",
            "42/42 [==============================] - 4s 89ms/step - loss: 0.3083 - accuracy: 0.9580 - val_loss: 0.6553 - val_accuracy: 0.9203\n",
            "Epoch 13/30\n",
            "42/42 [==============================] - 4s 95ms/step - loss: 0.3011 - accuracy: 0.9602 - val_loss: 0.5966 - val_accuracy: 0.9294\n",
            "Epoch 14/30\n",
            "42/42 [==============================] - 4s 87ms/step - loss: 0.2955 - accuracy: 0.9615 - val_loss: 0.5956 - val_accuracy: 0.9305\n",
            "Epoch 15/30\n",
            "42/42 [==============================] - 4s 93ms/step - loss: 0.3016 - accuracy: 0.9612 - val_loss: 0.5946 - val_accuracy: 0.9307\n",
            "Epoch 16/30\n",
            "42/42 [==============================] - 4s 87ms/step - loss: 0.2911 - accuracy: 0.9616 - val_loss: 0.5927 - val_accuracy: 0.9307\n",
            "Epoch 17/30\n",
            "42/42 [==============================] - 4s 88ms/step - loss: 0.2891 - accuracy: 0.9617 - val_loss: 0.5940 - val_accuracy: 0.9309\n",
            "Epoch 18/30\n",
            "42/42 [==============================] - 4s 86ms/step - loss: 0.2872 - accuracy: 0.9619 - val_loss: 0.5971 - val_accuracy: 0.9310\n",
            "Epoch 19/30\n",
            "42/42 [==============================] - 4s 87ms/step - loss: 0.2861 - accuracy: 0.9619 - val_loss: 0.5932 - val_accuracy: 0.9311\n",
            "Epoch 20/30\n",
            "42/42 [==============================] - 4s 99ms/step - loss: 0.2843 - accuracy: 0.9621 - val_loss: 0.5938 - val_accuracy: 0.9312\n",
            "Epoch 21/30\n",
            "42/42 [==============================] - 4s 85ms/step - loss: 0.2829 - accuracy: 0.9621 - val_loss: 0.5922 - val_accuracy: 0.9312\n",
            "Epoch 22/30\n",
            "42/42 [==============================] - 4s 87ms/step - loss: 0.2815 - accuracy: 0.9621 - val_loss: 0.5959 - val_accuracy: 0.9313\n",
            "Epoch 23/30\n",
            "42/42 [==============================] - 4s 90ms/step - loss: 0.2803 - accuracy: 0.9622 - val_loss: 0.5991 - val_accuracy: 0.9312\n",
            "Epoch 24/30\n",
            "42/42 [==============================] - 4s 86ms/step - loss: 0.2792 - accuracy: 0.9622 - val_loss: 0.5950 - val_accuracy: 0.9311\n",
            "Epoch 25/30\n",
            "42/42 [==============================] - 4s 89ms/step - loss: 0.2778 - accuracy: 0.9623 - val_loss: 0.5976 - val_accuracy: 0.9311\n",
            "Epoch 26/30\n",
            "42/42 [==============================] - 4s 93ms/step - loss: 0.2763 - accuracy: 0.9622 - val_loss: 0.5948 - val_accuracy: 0.9313\n",
            "Epoch 27/30\n",
            "42/42 [==============================] - 4s 90ms/step - loss: 0.2751 - accuracy: 0.9624 - val_loss: 0.5976 - val_accuracy: 0.9315\n",
            "Epoch 28/30\n",
            "42/42 [==============================] - 4s 86ms/step - loss: 0.2738 - accuracy: 0.9623 - val_loss: 0.5932 - val_accuracy: 0.9315\n",
            "Epoch 29/30\n",
            "42/42 [==============================] - 4s 93ms/step - loss: 0.2722 - accuracy: 0.9623 - val_loss: 0.5955 - val_accuracy: 0.9314\n",
            "Epoch 30/30\n",
            "42/42 [==============================] - 4s 99ms/step - loss: 0.2734 - accuracy: 0.9623 - val_loss: 0.5964 - val_accuracy: 0.9314\n"
          ]
        }
      ],
      "source": [
        "history = model_teacher_forcing.fit([encoder_inputs, decoder_inputs],\n",
        "                                    decoder_targets, batch_size=BATCH_SIZE,\n",
        "                                    epochs=30, validation_split=0.2)"
      ]
    },
    {
      "cell_type": "markdown",
      "metadata": {
        "id": "XyUjTEg1IkC5"
      },
      "source": [
        "- accuracy, loss 시각화"
      ]
    },
    {
      "cell_type": "code",
      "execution_count": 20,
      "metadata": {
        "colab": {
          "base_uri": "https://localhost:8080/",
          "height": 277
        },
        "id": "9BWSgxh3G80A",
        "outputId": "1c5436bd-8f45-444c-d071-cb3af91ab469"
      },
      "outputs": [
        {
          "output_type": "display_data",
          "data": {
            "text/plain": [
              "<Figure size 1200x400 with 2 Axes>"
            ],
            "image/png": "[encoded data removed]"
          },
          "metadata": {}
        }
      ],
      "source": [
        "# plot some data\n",
        "fig, (ax1, ax2) = plt.subplots(1, 2, figsize=(12, 4))\n",
        "ax1.plot(history.history['loss'], label='loss')\n",
        "ax1.plot(history.history['val_loss'], label='val_loss')\n",
        "ax1.legend()\n",
        "\n",
        "# accuracies\n",
        "ax2.plot(history.history['accuracy'], label='acc')\n",
        "ax2.plot(history.history['val_accuracy'], label='val_acc')\n",
        "ax2.legend()\n",
        "plt.show()"
      ]
    },
    {
      "cell_type": "markdown",
      "metadata": {
        "id": "7hQEWBi6IpGl"
      },
      "source": [
        "- save model"
      ]
    },
    {
      "cell_type": "code",
      "execution_count": 21,
      "metadata": {
        "id": "4G41Pc0MG80C",
        "colab": {
          "base_uri": "https://localhost:8080/"
        },
        "outputId": "48d0a462-63e9-46ba-f0c2-46a60702f372"
      },
      "outputs": [
        {
          "output_type": "stream",
          "name": "stderr",
          "text": [
            "/usr/local/lib/python3.10/dist-packages/keras/src/engine/training.py:3079: UserWarning: You are saving your model as an HDF5 file via `model.save()`. This file format is considered legacy. We recommend using instead the native Keras format, e.g. `model.save('my_model.keras')`.\n",
            "  saving_api.save_model(\n"
          ]
        }
      ],
      "source": [
        "model_teacher_forcing.save('seq2seq_translation.h5')"
      ]
    },
    {
      "cell_type": "markdown",
      "metadata": {
        "id": "QXpQ5xqKG80E"
      },
      "source": [
        "## Make Predictions - Inference phase\n",
        "\n",
        "- prediction 을 위한 별도의 decoder model 작성  \n",
        "\n",
        "- 별로 training 없이 앞에서 train 된 weights 를 모두 재사용 한다.\n",
        "\n",
        "- decoder 는 encoder 와 분리되어 구성"
      ]
    },
    {
      "cell_type": "code",
      "execution_count": 22,
      "metadata": {
        "colab": {
          "base_uri": "https://localhost:8080/"
        },
        "id": "0JJGUKl-G80E",
        "outputId": "b1ce8ed0-32b4-45f4-c477-70e25d5f7674"
      },
      "outputs": [
        {
          "output_type": "stream",
          "name": "stdout",
          "text": [
            "Model: \"model_2\"\n",
            "__________________________________________________________________________________________________\n",
            " Layer (type)                Output Shape                 Param #   Connected to                  \n",
            "==================================================================================================\n",
            " Decoder_input (InputLayer)  [(None, 1)]                  0         []                            \n",
            "                                                                                                  \n",
            " embedding_1 (Embedding)     multiple                     532500    ['Decoder_input[0][0]']       \n",
            "                                                                                                  \n",
            " Decoder_hidden_h (InputLay  [(None, 512)]                0         []                            \n",
            " er)                                                                                              \n",
            "                                                                                                  \n",
            " Decoder_hidden_c (InputLay  [(None, 512)]                0         []                            \n",
            " er)                                                                                              \n",
            "                                                                                                  \n",
            " lstm_1 (LSTM)               multiple                     1255424   ['embedding_1[1][0]',         \n",
            "                                                                     'Decoder_hidden_h[0][0]',    \n",
            "                                                                     'Decoder_hidden_c[0][0]']    \n",
            "                                                                                                  \n",
            " Decoder_Output (Dense)      multiple                     2731725   ['lstm_1[1][0]']              \n",
            "                                                                                                  \n",
            "==================================================================================================\n",
            "Total params: 4519649 (17.24 MB)\n",
            "Trainable params: 4519649 (17.24 MB)\n",
            "Non-trainable params: 0 (0.00 Byte)\n",
            "__________________________________________________________________________________________________\n"
          ]
        }
      ],
      "source": [
        "# Decoder for inference\n",
        "decoder_state_input_h = Input(shape=(512,), name='Decoder_hidden_h')\n",
        "decoder_state_input_c = Input(shape=(512,), name='Decoder_hidden_c')\n",
        "decoder_states_inputs = [decoder_state_input_h, decoder_state_input_c]\n",
        "\n",
        "decoder_inputs_single = Input(shape=(1,), name='Decoder_input')\n",
        "x = decoder_embedding(decoder_inputs_single)\n",
        "\n",
        "# output, hidden states 를 저장\n",
        "decoder_outputs, h, c = decoder_lstm(x, initial_state=decoder_states_inputs)\n",
        "\n",
        "decoder_states = [h, c]\n",
        "\n",
        "decoder_outputs = decoder_dense(decoder_outputs)\n",
        "\n",
        "decoder_model = Model(\n",
        "    [decoder_inputs_single] + decoder_states_inputs,\n",
        "    [decoder_outputs] + decoder_states\n",
        ")\n",
        "\n",
        "decoder_model.summary()"
      ]
    },
    {
      "cell_type": "markdown",
      "metadata": {
        "id": "HOl_sDoVI1N7"
      },
      "source": [
        "- inference 용 decoder model 시각화"
      ]
    },
    {
      "cell_type": "code",
      "execution_count": 23,
      "metadata": {
        "colab": {
          "base_uri": "https://localhost:8080/",
          "height": 303
        },
        "id": "v_QF0GNtG80I",
        "outputId": "e1235371-d01f-43ea-c4ce-96f9cd799143"
      },
      "outputs": [
        {
          "output_type": "execute_result",
          "data": {
            "image/png": "[encoded data removed]",
            "text/plain": [
              "<IPython.core.display.Image object>"
            ]
          },
          "metadata": {},
          "execution_count": 23
        }
      ],
      "source": [
        "plot_model(decoder_model, show_shapes=True)"
      ]
    },
    {
      "cell_type": "markdown",
      "metadata": {
        "id": "RTLcPG9RI8dR"
      },
      "source": [
        "예측하는 동안 index를 단어를 되돌리기 위한 reverse word2idx dictionary 작성"
      ]
    },
    {
      "cell_type": "markdown",
      "metadata": {
        "id": "fUZfCBF-JKPR"
      },
      "source": [
        "### Translation Inference"
      ]
    },
    {
      "cell_type": "code",
      "execution_count": 24,
      "metadata": {
        "colab": {
          "base_uri": "https://localhost:8080/"
        },
        "id": "tlCAy_2MG80N",
        "outputId": "59fe97d7-9c91-4cc3-ec12-dd75fe6a7a1a",
        "scrolled": false
      },
      "outputs": [
        {
          "output_type": "stream",
          "name": "stdout",
          "text": [
            "1/1 [==============================] - 0s 356ms/step\n",
            "1/1 [==============================] - 0s 334ms/step\n",
            "1/1 [==============================] - 0s 23ms/step\n",
            "1/1 [==============================] - 0s 20ms/step\n",
            "-\n",
            "Input: I almost died yesterday.\n",
            "Translation: 난 내\n",
            "1/1 [==============================] - 0s 20ms/step\n",
            "1/1 [==============================] - 0s 18ms/step\n",
            "1/1 [==============================] - 0s 19ms/step\n",
            "1/1 [==============================] - 0s 19ms/step\n",
            "-\n",
            "Input: I haven't finished this yet.\n",
            "Translation: 난 내가\n",
            "1/1 [==============================] - 0s 17ms/step\n",
            "1/1 [==============================] - 0s 25ms/step\n",
            "1/1 [==============================] - 0s 20ms/step\n",
            "1/1 [==============================] - 0s 21ms/step\n",
            "-\n",
            "Input: They must've had an accident.\n",
            "Translation: 난 사람은\n",
            "1/1 [==============================] - 0s 21ms/step\n",
            "1/1 [==============================] - 0s 20ms/step\n",
            "1/1 [==============================] - 0s 25ms/step\n",
            "-\n",
            "Input: I'm a simple girl.\n",
            "Translation: 그\n",
            "1/1 [==============================] - 0s 17ms/step\n",
            "1/1 [==============================] - 0s 19ms/step\n",
            "1/1 [==============================] - 0s 28ms/step\n",
            "1/1 [==============================] - 0s 18ms/step\n",
            "1/1 [==============================] - 0s 19ms/step\n",
            "1/1 [==============================] - 0s 20ms/step\n",
            "-\n",
            "Input: I hope that we don't have to wait for too long.\n",
            "Translation: 톰이 톰이 내가 적\n"
          ]
        }
      ],
      "source": [
        "def decode_sequence(input_seq):\n",
        "   # encoder model을 이용하여 input을 state vector로 encoding\n",
        "    states_value = encoder_model.predict(input_seq)\n",
        "\n",
        "   # Generate empty target sequence of length 1.\n",
        "    target_seq = np.zeros((1, 1))\n",
        "\n",
        "   # target sequence 의 첫번째 character 를 start character (<sos>) 로 설정\n",
        "    target_seq[0, 0] = word2idx_kor['<sos>']\n",
        "\n",
        "   # <eos> token이 decode 에서 생성되면 loop 에서 break\n",
        "    eos = word2idx_kor['<eos>']\n",
        "\n",
        "   # 번역문 생성\n",
        "    output_sentence = []\n",
        "    for _ in range(max_len_kor):\n",
        "        output_tokens, h, c = decoder_model.predict([target_seq] + states_value)\n",
        "\n",
        "       # argmax 로 가장 확률 높은 단어 선택 --> greedy selection\n",
        "        idx = np.argmax(output_tokens[0, 0, :])\n",
        "\n",
        "        if eos == idx:  # <EOS> token\n",
        "            break\n",
        "\n",
        "        if idx > 0:  # idx 0 은 zero padding 된 sequence 이므로 ''\n",
        "            word = tokenizer_kor.index_word[idx]\n",
        "            output_sentence.append(word)\n",
        "\n",
        "        # 생성된 word 를 decoder 의 다음 input 으로 사용\n",
        "        target_seq[0, 0] = idx\n",
        "\n",
        "       # Update states\n",
        "        states_value = [h, c]\n",
        "\n",
        "    return ' '.join(output_sentence)\n",
        "\n",
        "for _ in range(5):\n",
        "    i = np.random.choice(len(eng_texts))\n",
        "    input_seq = encoder_inputs[i:i+1]\n",
        "\n",
        "    translation = decode_sequence(input_seq)\n",
        "    print('-')\n",
        "    print('Input:', eng_texts[i])\n",
        "    print('Translation:', translation)"
      ]
    },
    {
      "cell_type": "markdown",
      "metadata": {
        "id": "Qjr59AvAJTqF"
      },
      "source": [
        "### 임의의 영어 입력을 처리하는 영한 번역 함수"
      ]
    },
    {
      "cell_type": "code",
      "execution_count": 25,
      "metadata": {
        "id": "MxL71Hf4Y53i"
      },
      "outputs": [],
      "source": [
        "def Eng_Kor_translation(txt):\n",
        "    input_sequence = tokenizer_eng.texts_to_sequences([txt])\n",
        "    encoder_input = pad_sequences(input_sequence, maxlen=max_len_eng)\n",
        "\n",
        "    return decode_sequence(encoder_input)"
      ]
    },
    {
      "cell_type": "code",
      "execution_count": 32,
      "metadata": {
        "colab": {
          "base_uri": "https://localhost:8080/"
        },
        "id": "8t8TnjTUZJiE",
        "outputId": "e3e68774-55f4-4148-f232-b9c07186fa99"
      },
      "outputs": [
        {
          "output_type": "stream",
          "name": "stdout",
          "text": [
            "1/1 [==============================] - 0s 19ms/step\n",
            "1/1 [==============================] - 0s 26ms/step\n",
            "1/1 [==============================] - 0s 18ms/step\n",
            "1/1 [==============================] - 0s 17ms/step\n",
            "----\n",
            "Input: Your lips are red.\n",
            "Translation: 난 내\n",
            "1/1 [==============================] - 0s 16ms/step\n",
            "1/1 [==============================] - 0s 18ms/step\n",
            "1/1 [==============================] - 0s 20ms/step\n",
            "----\n",
            "Input: French is interesting.\n",
            "Translation: 그\n",
            "1/1 [==============================] - 0s 18ms/step\n",
            "1/1 [==============================] - 0s 18ms/step\n",
            "1/1 [==============================] - 0s 18ms/step\n",
            "----\n",
            "Input: I like you.\n",
            "Translation: 난\n",
            "1/1 [==============================] - 0s 17ms/step\n",
            "1/1 [==============================] - 0s 22ms/step\n",
            "1/1 [==============================] - 0s 18ms/step\n",
            "----\n",
            "Input: Let's go to home.\n",
            "Translation: 난\n",
            "1/1 [==============================] - 0s 17ms/step\n",
            "1/1 [==============================] - 0s 20ms/step\n",
            "1/1 [==============================] - 0s 20ms/step\n",
            "----\n",
            "Input: Show me.\n",
            "Translation: 난\n"
          ]
        }
      ],
      "source": [
        "test_text = [\n",
        "       \"Your lips are red.\",\n",
        "       \"French is interesting.\",\n",
        "       \"I like you.\",\n",
        "       \"Let's go to home.\",\n",
        "       \"Show me.\"\n",
        "]\n",
        "\n",
        "for text in test_text:\n",
        "    translation = Eng_Kor_translation(text)\n",
        "    print('----')\n",
        "    print('Input:', text)\n",
        "    print('Translation:', translation)"
      ]
    },
    {
      "cell_type": "code",
      "source": [],
      "metadata": {
        "id": "VnVwzqSf1io1"
      },
      "execution_count": null,
      "outputs": []
    }
  ],
  "metadata": {
    "accelerator": "GPU",
    "colab": {
      "provenance": [],
      "include_colab_link": true
    },
    "kernelspec": {
      "display_name": "Python 3 (ipykernel)",
      "language": "python",
      "name": "python3"
    },
    "language_info": {
      "codemirror_mode": {
        "name": "ipython",
        "version": 3
      },
      "file_extension": ".py",
      "mimetype": "text/x-python",
      "name": "python",
      "nbconvert_exporter": "python",
      "pygments_lexer": "ipython3",
      "version": "3.8.12"
    }
  },
  "nbformat": 4,
  "nbformat_minor": 0
}